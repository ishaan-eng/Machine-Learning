{
 "cells": [
  {
   "cell_type": "code",
   "id": "initial_id",
   "metadata": {
    "collapsed": true,
    "ExecuteTime": {
     "end_time": "2025-10-30T05:27:33.408107Z",
     "start_time": "2025-10-30T05:27:33.401469Z"
    }
   },
   "source": [
    "from statistics import LinearRegression\n",
    "\n",
    "import pandas as pd\n",
    "import numpy as np\n",
    "from sklearn.linear_model import ElasticNet,LinearRegression\n",
    "from sklearn.model_selection import train_test_split\n",
    "from sklearn.compose import make_column_selector,make_column_transformer\n",
    "from sklearn.metrics import classification_report, mean_absolute_error, r2_score, f1_score, accuracy_score\n",
    "from sklearn.discriminant_analysis import LinearDiscriminantAnalysis,QuadraticDiscriminantAnalysis\n",
    "from sklearn.naive_bayes import GaussianNB\n",
    "from sklearn.preprocessing import StandardScaler, MinMaxScaler, LabelEncoder, OneHotEncoder\n",
    "import matplotlib.pyplot as plt\n",
    "import seaborn as sns\n",
    "from sklearn.svm import SVC\n",
    "from sklearn.neighbors import KNeighborsClassifier\n",
    "from sklearn.ensemble import VotingClassifier, VotingRegressor, BaggingClassifier\n",
    "from sklearn.tree import DecisionTreeClassifier, DecisionTreeRegressor\n"
   ],
   "outputs": [],
   "execution_count": 61
  },
  {
   "metadata": {
    "ExecuteTime": {
     "end_time": "2025-10-30T05:27:09.938483Z",
     "start_time": "2025-10-30T05:27:09.912627Z"
    }
   },
   "cell_type": "code",
   "source": [
    "sonar=pd.read_csv(\"Sonar.csv\")\n",
    "y=sonar[\"Class\"]\n",
    "X=sonar.drop(\"Class\",axis=1)\n",
    "X_train, X_test, y_train, y_test = train_test_split(X, y, test_size=0.3, random_state=25,stratify=y)\n",
    "le=LabelEncoder()\n",
    "y_train=le.fit_transform(y_train)\n",
    "y_test=le.transform(y_test)\n",
    "\n"
   ],
   "id": "67448f1f7d8f8e30",
   "outputs": [],
   "execution_count": 55
  },
  {
   "metadata": {
    "ExecuteTime": {
     "end_time": "2025-10-30T05:27:10.066669Z",
     "start_time": "2025-10-30T05:27:09.951272Z"
    }
   },
   "cell_type": "code",
   "source": [
    "dtc=DecisionTreeClassifier()\n",
    "knn=KNeighborsClassifier()\n",
    "nb=GaussianNB()\n",
    "knn2=KNeighborsClassifier()\n",
    "Voting=VotingClassifier(estimators=[(\"Tree\",dtc),(\"KNN\",knn),(\"KNN2\",knn2),(\"NB\",nb)],voting=\"soft\",weights=[7.6,7.5,8.1,6.3])\n",
    "Voting.fit(X_train,y_train)\n",
    "y_pred=Voting.predict(X_test)\n",
    "print(classification_report(y_test,y_pred))\n",
    "print(y_pred)\n",
    "y_pred0=Voting.estimators_[0].predict(X_test)\n",
    "print(y_pred0)\n",
    "y_pred1=Voting.estimators_[1].predict(X_test)\n",
    "print(y_pred1)\n",
    "y_pred2=Voting.estimators_[2].predict(X_test)\n",
    "y_pred_series   = pd.Series(y_pred, name=\"y_pred_Voting\") # Use a distinct name for the Voting result\n",
    "y_pred0_series  = pd.Series(y_pred0, name=\"Tree\")\n",
    "y_pred1_series  = pd.Series(y_pred1, name=\"Knn\")\n",
    "y_pred2_series  = pd.Series(y_pred2, name=\"NB\")\n",
    "\n",
    "predictions_dict = {\n",
    "    \"Tree\": y_pred0_series,\n",
    "    \"Knn\": y_pred1_series,\n",
    "    \"NB\": y_pred2_series,\n",
    "    \"y_pred_Voting\": y_pred_series\n",
    "}\n",
    "\n",
    "df = pd.DataFrame(predictions_dict)\n",
    "\n",
    "print(df.head(5))\n",
    "for i in range(len(Voting.estimators_)):\n",
    "    print(i)\n",
    "    print(accuracy_score(y_test,Voting.estimators_[i].predict(X_test)))"
   ],
   "id": "bdabd8da753384c",
   "outputs": [
    {
     "name": "stdout",
     "output_type": "stream",
     "text": [
      "              precision    recall  f1-score   support\n",
      "\n",
      "           0       0.74      0.94      0.83        34\n",
      "           1       0.90      0.62      0.73        29\n",
      "\n",
      "    accuracy                           0.79        63\n",
      "   macro avg       0.82      0.78      0.78        63\n",
      "weighted avg       0.82      0.79      0.79        63\n",
      "\n",
      "[1 0 1 1 1 0 0 0 0 1 1 0 1 0 0 0 0 0 0 0 0 0 0 1 0 0 1 0 0 1 0 0 0 1 0 0 0\n",
      " 0 0 0 0 0 1 0 1 0 0 1 0 0 0 0 0 1 1 1 0 0 1 1 0 0 1]\n",
      "[1 0 0 1 0 0 0 1 1 1 1 0 1 0 0 0 1 0 1 0 1 0 0 1 0 0 1 1 0 1 0 0 0 1 1 0 0\n",
      " 0 1 0 0 0 1 0 1 0 0 1 0 1 0 0 0 1 1 1 0 0 1 1 0 0 1]\n",
      "[1 0 1 1 1 0 0 0 0 0 1 0 1 0 0 0 0 1 0 1 0 0 0 0 0 0 1 0 0 0 0 0 0 1 0 1 0\n",
      " 0 0 0 0 1 0 0 1 0 0 1 0 0 0 0 1 0 0 1 1 0 1 1 1 0 1]\n",
      "   Tree  Knn  NB  y_pred_Voting\n",
      "0     1    1   1              1\n",
      "1     0    0   0              0\n",
      "2     0    1   1              1\n",
      "3     1    1   1              1\n",
      "4     0    1   1              1\n",
      "0\n",
      "0.746031746031746\n",
      "1\n",
      "0.746031746031746\n",
      "2\n",
      "0.746031746031746\n",
      "3\n",
      "0.6349206349206349\n"
     ]
    }
   ],
   "execution_count": 56
  },
  {
   "metadata": {
    "ExecuteTime": {
     "end_time": "2025-10-30T05:27:10.155593Z",
     "start_time": "2025-10-30T05:27:10.077882Z"
    }
   },
   "cell_type": "code",
   "source": [
    "from sklearn.metrics import log_loss\n",
    "\n",
    "Voting=VotingClassifier(estimators=[(\"Tree\",dtc),(\"KNN\",knn),(\"KNN2\",knn2),(\"NB\",nb)],voting=\"soft\",weights=[7.6,7.5,8.1,6.3])\n",
    "Voting.fit(X_train,y_train)\n",
    "y_pred=Voting.predict(X_test)\n",
    "print(classification_report(y_test,y_pred))\n",
    "y_pred_prob=Voting.predict_proba(X_test)\n",
    "print(log_loss(y_test,y_pred_prob))"
   ],
   "id": "2bd24c95a8191aaf",
   "outputs": [
    {
     "name": "stdout",
     "output_type": "stream",
     "text": [
      "              precision    recall  f1-score   support\n",
      "\n",
      "           0       0.71      0.94      0.81        34\n",
      "           1       0.89      0.55      0.68        29\n",
      "\n",
      "    accuracy                           0.76        63\n",
      "   macro avg       0.80      0.75      0.75        63\n",
      "weighted avg       0.79      0.76      0.75        63\n",
      "\n",
      "0.44382727021927054\n"
     ]
    }
   ],
   "execution_count": 57
  },
  {
   "metadata": {
    "ExecuteTime": {
     "end_time": "2025-10-30T05:27:15.795328Z",
     "start_time": "2025-10-30T05:27:10.189057Z"
    }
   },
   "cell_type": "code",
   "source": [
    "hr=pd.read_csv('HR_comma_sep.csv',index_col=0)\n",
    "X=hr.drop([\"left\"],axis=1)\n",
    "y=hr['left']\n",
    "X_train, X_test, y_train, y_test = train_test_split(X, y, test_size=0.3, random_state=25,stratify=y)\n",
    "le=LabelEncoder()\n",
    "y_train=le.fit_transform(y_train)\n",
    "y_test=le.transform(y_test)\n",
    "ohe=OneHotEncoder(sparse_output=False,drop='first').set_output(transform='pandas')\n",
    "X_train_trf=ohe.fit_transform(X_train)\n",
    "X_test_trf=ohe.transform(X_test)\n",
    "dtc=DecisionTreeClassifier()\n",
    "knn=KNeighborsClassifier()\n",
    "nb=GaussianNB()\n",
    "knn2=KNeighborsClassifier()\n",
    "Voting=VotingClassifier(estimators=[(\"Tree\",dtc),(\"KNN\",knn),(\"KNN2\",knn2),(\"NB\",nb)],weights=[7.6,7.5,8.1,6.3])\n",
    "Voting.fit(X_train_trf,y_train)\n",
    "y_pred=Voting.predict(X_test_trf)\n",
    "print(classification_report(y_test,y_pred))\n",
    "print(y_pred)\n",
    "y_pred0=Voting.estimators_[0].predict(X_test_trf)\n",
    "print(y_pred0)\n",
    "y_pred1=Voting.estimators_[1].predict(X_test_trf)\n",
    "print(y_pred1)\n",
    "y_pred2=Voting.estimators_[2].predict(X_test_trf)\n",
    "y_pred_series   = pd.Series(y_pred, name=\"y_pred_Voting\") # Use a distinct name for the Voting result\n",
    "y_pred0_series  = pd.Series(y_pred0, name=\"Tree\")\n",
    "y_pred1_series  = pd.Series(y_pred1, name=\"Knn\")\n",
    "y_pred2_series  = pd.Series(y_pred2, name=\"NB\")\n",
    "\n",
    "predictions_dict = {\n",
    "    \"Tree\": y_pred0_series,\n",
    "    \"Knn\": y_pred1_series,\n",
    "    \"NB\": y_pred2_series,\n",
    "    \"y_pred_Voting\": y_pred_series\n",
    "}\n",
    "\n",
    "df = pd.DataFrame(predictions_dict)\n",
    "\n",
    "print(df.head(5))\n",
    "for i in range(len(Voting.estimators_)):\n",
    "    print(i)\n",
    "    print(accuracy_score(y_test,Voting.estimators_[i].predict(X_test_trf)))\n",
    "from sklearn.metrics import log_loss\n",
    "\n",
    "Voting=VotingClassifier(estimators=[(\"Tree\",dtc),(\"KNN\",knn),(\"KNN2\",knn2),(\"NB\",nb)],voting=\"soft\",weights=[9.7,9.6,9.5,7.1])\n",
    "Voting.fit(X_train_trf,y_train)\n",
    "y_pred=Voting.predict(X_test_trf)\n",
    "print(classification_report(y_test,y_pred))\n",
    "y_pred_prob=Voting.predict_proba(X_test_trf)\n",
    "print(log_loss(y_test,y_pred_prob))"
   ],
   "id": "1527c1ca4ac1ded0",
   "outputs": [
    {
     "name": "stdout",
     "output_type": "stream",
     "text": [
      "              precision    recall  f1-score   support\n",
      "\n",
      "           0       0.96      0.91      0.94      3429\n",
      "           1       0.76      0.87      0.81      1070\n",
      "\n",
      "    accuracy                           0.91      4499\n",
      "   macro avg       0.86      0.89      0.88      4499\n",
      "weighted avg       0.91      0.91      0.91      4499\n",
      "\n",
      "[0 0 0 ... 1 0 0]\n",
      "[0 0 0 ... 1 0 1]\n",
      "[0 0 0 ... 1 0 0]\n",
      "   Tree  Knn  NB  y_pred_Voting\n",
      "0     0    0   0              0\n",
      "1     0    0   0              0\n",
      "2     0    0   0              0\n",
      "3     0    1   1              1\n",
      "4     0    0   0              0\n",
      "0\n",
      "0.9517670593465215\n",
      "1\n",
      "0.9053122916203601\n",
      "2\n",
      "0.9053122916203601\n",
      "3\n",
      "0.6210268948655256\n",
      "              precision    recall  f1-score   support\n",
      "\n",
      "           0       0.98      0.93      0.96      3429\n",
      "           1       0.81      0.95      0.87      1070\n",
      "\n",
      "    accuracy                           0.93      4499\n",
      "   macro avg       0.90      0.94      0.91      4499\n",
      "weighted avg       0.94      0.93      0.94      4499\n",
      "\n",
      "0.3134551757157107\n"
     ]
    }
   ],
   "execution_count": 58
  },
  {
   "metadata": {
    "ExecuteTime": {
     "end_time": "2025-10-30T05:27:15.831588Z",
     "start_time": "2025-10-30T05:27:15.816725Z"
    }
   },
   "cell_type": "code",
   "source": [
    "concrete=pd.read_csv(\"Concrete_Data.csv\")\n",
    "y=concrete[\"Strength\"]\n",
    "X=concrete.drop([\"Strength\"],axis=1)\n",
    "X_train,X_test,y_train,y_test=train_test_split(X,y,test_size=0.3,random_state=25)\n"
   ],
   "id": "42a8d9fc61e9f945",
   "outputs": [],
   "execution_count": 59
  },
  {
   "metadata": {
    "ExecuteTime": {
     "end_time": "2025-10-30T05:44:25.501584Z",
     "start_time": "2025-10-30T05:44:25.465419Z"
    }
   },
   "cell_type": "code",
   "source": [
    "dtr1=DecisionTreeRegressor(random_state=25)\n",
    "dtr2=DecisionTreeRegressor(random_state=25,max_depth=5)\n",
    "lr=LinearRegression()\n",
    "el=ElasticNet()\n",
    "voting=VotingRegressor([(\"DTR1\",dtr1),(\"DTR2\",dtr2),(\"Lr\",lr),('EL',el)],weights=[10,5,1,4])\n",
    "voting.fit(X_train,y_train)\n",
    "y_pred=voting.predict(X_test)\n",
    "print(r2_score(y_test,y_pred))\n",
    "for i in range(len(voting.estimators_)):\n",
    "    print(r2_score(y_test,voting.estimators_[i].predict(X_test)))"
   ],
   "id": "1d995bef6ed764d2",
   "outputs": [
    {
     "name": "stdout",
     "output_type": "stream",
     "text": [
      "0.8551747917916809\n",
      "0.8127760533837747\n",
      "0.7311101169515943\n",
      "0.6351839142464111\n",
      "0.6345321364921961\n"
     ]
    }
   ],
   "execution_count": 66
  },
  {
   "metadata": {},
   "cell_type": "code",
   "outputs": [],
   "execution_count": null,
   "source": [
    "sonar=pd.read_csv(\"Sonar.csv\")\n",
    "y=sonar[\"Class\"]\n",
    "X=sonar.drop(\"Class\",axis=1)\n",
    "X_train, X_test, y_train, y_test = train_test_split(X, y, test_size=0.3, random_state=25,stratify=y)\n",
    "le=LabelEncoder()\n",
    "y_train=le.fit_transform(y_train)\n",
    "y_test=le.transform(y_test)"
   ],
   "id": "f4d476b1c482980b"
  }
 ],
 "metadata": {
  "kernelspec": {
   "display_name": "Python 3",
   "language": "python",
   "name": "python3"
  },
  "language_info": {
   "codemirror_mode": {
    "name": "ipython",
    "version": 2
   },
   "file_extension": ".py",
   "mimetype": "text/x-python",
   "name": "python",
   "nbconvert_exporter": "python",
   "pygments_lexer": "ipython2",
   "version": "2.7.6"
  }
 },
 "nbformat": 4,
 "nbformat_minor": 5
}
