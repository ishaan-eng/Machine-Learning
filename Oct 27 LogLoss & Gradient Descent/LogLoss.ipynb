{
 "cells": [
  {
   "cell_type": "code",
   "id": "initial_id",
   "metadata": {
    "collapsed": true,
    "ExecuteTime": {
     "end_time": "2025-10-27T03:28:24.619292Z",
     "start_time": "2025-10-27T03:28:10.851554Z"
    }
   },
   "source": [
    "import pandas  as pd\n",
    "import numpy as np\n",
    "from sklearn.metrics import log_loss\n",
    "hr=pd.read_csv(\"HR_comma_sep.csv\")\n",
    "x=hr['satisfaction_level'].values\n",
    "y=hr['left'].values\n"
   ],
   "outputs": [],
   "execution_count": 1
  },
  {
   "metadata": {
    "ExecuteTime": {
     "end_time": "2025-10-27T03:28:24.649515Z",
     "start_time": "2025-10-27T03:28:24.643598Z"
    }
   },
   "cell_type": "code",
   "source": "eta,w,b=0.1,0.1,0.1",
   "id": "fc8628e04d5308e7",
   "outputs": [],
   "execution_count": 2
  },
  {
   "metadata": {
    "ExecuteTime": {
     "end_time": "2025-10-27T03:29:15.332391Z",
     "start_time": "2025-10-27T03:29:15.324598Z"
    }
   },
   "cell_type": "code",
   "source": [
    "def sigmoid(z):\n",
    "    return 1/(1+np.exp(-z))\n"
   ],
   "id": "8fe6f1b40407c71b",
   "outputs": [],
   "execution_count": 3
  },
  {
   "metadata": {
    "ExecuteTime": {
     "end_time": "2025-10-27T04:06:58.005267Z",
     "start_time": "2025-10-27T04:06:57.997535Z"
    }
   },
   "cell_type": "code",
   "source": [
    "ycap=sigmoid(w*x+b)\n",
    "dw=-np.mean((y-ycap)*x)\n",
    "db=-np.mean(y-ycap)\n",
    "dw,db"
   ],
   "id": "71d6cecd0e37343e",
   "outputs": [
    {
     "data": {
      "text/plain": [
       "(np.float64(0.22793621296439173), np.float64(0.3023497355658429))"
      ]
     },
     "execution_count": 9,
     "metadata": {},
     "output_type": "execute_result"
    }
   ],
   "execution_count": 9
  },
  {
   "metadata": {
    "ExecuteTime": {
     "end_time": "2025-10-27T04:06:59.115895Z",
     "start_time": "2025-10-27T04:06:59.108567Z"
    }
   },
   "cell_type": "code",
   "source": "sigmoid(w*x+b)",
   "id": "d65187c93b4141a8",
   "outputs": [
    {
     "data": {
      "text/plain": [
       "array([0.53444535, 0.54487889, 0.5274723 , ..., 0.53419653, 0.52772154,\n",
       "       0.53419653], shape=(14995,))"
      ]
     },
     "execution_count": 10,
     "metadata": {},
     "output_type": "execute_result"
    }
   ],
   "execution_count": 10
  },
  {
   "metadata": {
    "ExecuteTime": {
     "end_time": "2025-10-27T04:07:00.208059Z",
     "start_time": "2025-10-27T04:07:00.188841Z"
    }
   },
   "cell_type": "code",
   "source": [
    "\n",
    "L=log_loss(y,ycap)"
   ],
   "id": "5ab7e47ce144f4a2",
   "outputs": [],
   "execution_count": 11
  }
 ],
 "metadata": {
  "kernelspec": {
   "display_name": "Python 3",
   "language": "python",
   "name": "python3"
  },
  "language_info": {
   "codemirror_mode": {
    "name": "ipython",
    "version": 2
   },
   "file_extension": ".py",
   "mimetype": "text/x-python",
   "name": "python",
   "nbconvert_exporter": "python",
   "pygments_lexer": "ipython2",
   "version": "2.7.6"
  }
 },
 "nbformat": 4,
 "nbformat_minor": 5
}
