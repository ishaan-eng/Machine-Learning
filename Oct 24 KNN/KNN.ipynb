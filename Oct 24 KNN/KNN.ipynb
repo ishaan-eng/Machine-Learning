{
 "cells": [
  {
   "cell_type": "code",
   "id": "initial_id",
   "metadata": {
    "collapsed": true,
    "ExecuteTime": {
     "end_time": "2025-10-24T10:12:36.536704Z",
     "start_time": "2025-10-24T10:12:36.531788Z"
    }
   },
   "source": [
    "import pandas as pd\n",
    "import numpy as np\n",
    "import matplotlib.pyplot as plt\n",
    "from sklearn.model_selection import train_test_split\n",
    "from sklearn.neighbors import KNeighborsClassifier\n",
    "from sklearn.preprocessing import StandardScaler, OneHotEncoder, MinMaxScaler\n",
    "from sklearn.preprocessing import LabelEncoder\n",
    "from sklearn.metrics import confusion_matrix, accuracy_score, roc_auc_score\n"
   ],
   "outputs": [],
   "execution_count": 15
  },
  {
   "metadata": {
    "ExecuteTime": {
     "end_time": "2025-10-24T10:00:03.249935Z",
     "start_time": "2025-10-24T10:00:03.241595Z"
    }
   },
   "cell_type": "code",
   "source": [
    "glass=pd.read_csv(\"Glass.csv\")\n",
    "y=glass['Type']\n",
    "X=glass.drop('Type',axis=1)\n"
   ],
   "id": "8adefe4c48819c43",
   "outputs": [],
   "execution_count": 10
  },
  {
   "metadata": {
    "ExecuteTime": {
     "end_time": "2025-10-24T10:00:04.178296Z",
     "start_time": "2025-10-24T10:00:04.170579Z"
    }
   },
   "cell_type": "code",
   "source": [
    "knn=KNeighborsClassifier()\n",
    "X_train,X_test,y_train,y_test=train_test_split(X,y,test_size=0.3,random_state=25,stratify=y)"
   ],
   "id": "af5f17d9bb05cb8c",
   "outputs": [],
   "execution_count": 11
  },
  {
   "metadata": {
    "ExecuteTime": {
     "end_time": "2025-10-24T10:00:05.689590Z",
     "start_time": "2025-10-24T10:00:05.666130Z"
    }
   },
   "cell_type": "code",
   "source": [
    "scaler=StandardScaler()\n",
    "x_trn_scl=scaler.fit_transform(X_train)\n",
    "x_tst_scl=scaler.transform(X_test)\n",
    "knn=KNeighborsClassifier(n_neighbors=1)\n",
    "knn.fit(x_trn_scl,y_train)\n",
    "y_pred=knn.predict(x_tst_scl)\n",
    "accuracy_score(y_test,y_pred)"
   ],
   "id": "4dd643a940754a06",
   "outputs": [
    {
     "data": {
      "text/plain": [
       "0.8"
      ]
     },
     "execution_count": 12,
     "metadata": {},
     "output_type": "execute_result"
    }
   ],
   "execution_count": 12
  },
  {
   "metadata": {
    "ExecuteTime": {
     "end_time": "2025-10-24T10:00:36.277037Z",
     "start_time": "2025-10-24T10:00:36.215980Z"
    }
   },
   "cell_type": "code",
   "source": [
    "ks=[1,2,3,4,5,6,7,8,9,10]\n",
    "scores=[]\n",
    "for k in ks:\n",
    "     knn=KNeighborsClassifier(n_neighbors=k)\n",
    "     knn.fit(x_trn_scl,y_train)\n",
    "     y_pred=knn.predict(x_tst_scl)\n",
    "     scores.append([k,accuracy_score(y_test,y_pred)])\n",
    "df_scores=pd.DataFrame(scores,columns=['k','acc_score'])\n",
    "df_scores.sort_values('acc_score',ascending=False)"
   ],
   "id": "e5996fe81890172c",
   "outputs": [
    {
     "data": {
      "text/plain": [
       "    k  acc_score\n",
       "1   2   0.815385\n",
       "0   1   0.800000\n",
       "2   3   0.753846\n",
       "3   4   0.738462\n",
       "5   6   0.692308\n",
       "6   7   0.692308\n",
       "4   5   0.676923\n",
       "7   8   0.661538\n",
       "8   9   0.661538\n",
       "9  10   0.646154"
      ],
      "text/html": [
       "<div>\n",
       "<style scoped>\n",
       "    .dataframe tbody tr th:only-of-type {\n",
       "        vertical-align: middle;\n",
       "    }\n",
       "\n",
       "    .dataframe tbody tr th {\n",
       "        vertical-align: top;\n",
       "    }\n",
       "\n",
       "    .dataframe thead th {\n",
       "        text-align: right;\n",
       "    }\n",
       "</style>\n",
       "<table border=\"1\" class=\"dataframe\">\n",
       "  <thead>\n",
       "    <tr style=\"text-align: right;\">\n",
       "      <th></th>\n",
       "      <th>k</th>\n",
       "      <th>acc_score</th>\n",
       "    </tr>\n",
       "  </thead>\n",
       "  <tbody>\n",
       "    <tr>\n",
       "      <th>1</th>\n",
       "      <td>2</td>\n",
       "      <td>0.815385</td>\n",
       "    </tr>\n",
       "    <tr>\n",
       "      <th>0</th>\n",
       "      <td>1</td>\n",
       "      <td>0.800000</td>\n",
       "    </tr>\n",
       "    <tr>\n",
       "      <th>2</th>\n",
       "      <td>3</td>\n",
       "      <td>0.753846</td>\n",
       "    </tr>\n",
       "    <tr>\n",
       "      <th>3</th>\n",
       "      <td>4</td>\n",
       "      <td>0.738462</td>\n",
       "    </tr>\n",
       "    <tr>\n",
       "      <th>5</th>\n",
       "      <td>6</td>\n",
       "      <td>0.692308</td>\n",
       "    </tr>\n",
       "    <tr>\n",
       "      <th>6</th>\n",
       "      <td>7</td>\n",
       "      <td>0.692308</td>\n",
       "    </tr>\n",
       "    <tr>\n",
       "      <th>4</th>\n",
       "      <td>5</td>\n",
       "      <td>0.676923</td>\n",
       "    </tr>\n",
       "    <tr>\n",
       "      <th>7</th>\n",
       "      <td>8</td>\n",
       "      <td>0.661538</td>\n",
       "    </tr>\n",
       "    <tr>\n",
       "      <th>8</th>\n",
       "      <td>9</td>\n",
       "      <td>0.661538</td>\n",
       "    </tr>\n",
       "    <tr>\n",
       "      <th>9</th>\n",
       "      <td>10</td>\n",
       "      <td>0.646154</td>\n",
       "    </tr>\n",
       "  </tbody>\n",
       "</table>\n",
       "</div>"
      ]
     },
     "execution_count": 13,
     "metadata": {},
     "output_type": "execute_result"
    }
   ],
   "execution_count": 13
  },
  {
   "metadata": {
    "ExecuteTime": {
     "end_time": "2025-10-24T10:13:12.503644Z",
     "start_time": "2025-10-24T10:13:12.487017Z"
    }
   },
   "cell_type": "code",
   "source": [
    "scalar=MinMaxScaler()\n",
    "x_trn_scl=scalar.fit_transform(x_trn_scl)\n",
    "x_tst_scl=scalar.transform(x_tst_scl)\n",
    "knn=KNeighborsClassifier(n_neighbors=1)\n",
    "knn.fit(x_trn_scl,y_train)\n",
    "y_pred=knn.predict(x_tst_scl)\n",
    "print(y_pred)"
   ],
   "id": "8d6b4e4c024ff484",
   "outputs": [
    {
     "name": "stdout",
     "output_type": "stream",
     "text": [
      "['building_windows_float_processed' 'building_windows_non_float_processed'\n",
      " 'building_windows_non_float_processed'\n",
      " 'building_windows_non_float_processed'\n",
      " 'building_windows_non_float_processed'\n",
      " 'building_windows_non_float_processed' 'building_windows_float_processed'\n",
      " 'building_windows_non_float_processed'\n",
      " 'building_windows_non_float_processed' 'building_windows_float_processed'\n",
      " 'building_windows_non_float_processed' 'building_windows_float_processed'\n",
      " 'building_windows_non_float_processed' 'tableware' 'headlamps'\n",
      " 'building_windows_float_processed' 'tableware'\n",
      " 'building_windows_non_float_processed' 'building_windows_float_processed'\n",
      " 'tableware' 'building_windows_float_processed'\n",
      " 'vehicle_windows_float_processed' 'building_windows_float_processed'\n",
      " 'building_windows_float_processed' 'building_windows_non_float_processed'\n",
      " 'building_windows_non_float_processed'\n",
      " 'building_windows_non_float_processed' 'building_windows_float_processed'\n",
      " 'building_windows_non_float_processed' 'building_windows_float_processed'\n",
      " 'building_windows_non_float_processed' 'containers' 'headlamps'\n",
      " 'building_windows_float_processed' 'building_windows_non_float_processed'\n",
      " 'building_windows_float_processed' 'building_windows_float_processed'\n",
      " 'containers' 'containers' 'building_windows_float_processed'\n",
      " 'building_windows_non_float_processed' 'building_windows_float_processed'\n",
      " 'building_windows_float_processed' 'building_windows_float_processed'\n",
      " 'headlamps' 'building_windows_non_float_processed'\n",
      " 'building_windows_non_float_processed' 'vehicle_windows_float_processed'\n",
      " 'building_windows_non_float_processed' 'headlamps'\n",
      " 'building_windows_non_float_processed'\n",
      " 'building_windows_non_float_processed'\n",
      " 'building_windows_non_float_processed' 'building_windows_float_processed'\n",
      " 'containers' 'containers' 'headlamps' 'tableware'\n",
      " 'building_windows_non_float_processed'\n",
      " 'building_windows_non_float_processed' 'headlamps'\n",
      " 'building_windows_float_processed' 'building_windows_float_processed'\n",
      " 'building_windows_float_processed' 'building_windows_non_float_processed']\n"
     ]
    }
   ],
   "execution_count": 18
  },
  {
   "metadata": {},
   "cell_type": "markdown",
   "source": "Vehicle silhouette",
   "id": "8812c3dd98703a98"
  },
  {
   "metadata": {
    "ExecuteTime": {
     "end_time": "2025-10-24T11:03:53.971985Z",
     "start_time": "2025-10-24T11:03:48.159318Z"
    }
   },
   "cell_type": "code",
   "source": [
    "df=pd.read_csv(\"vehicle.csv\")\n",
    "y=df[\"Class\"]\n",
    "x=df.drop(columns=[\"Class\"])\n",
    "s=MinMaxScaler()\n",
    "knnclassifier=KNeighborsClassifier(n_neighbors=1)\n",
    "X_train,X_test,y_train,y_test=train_test_split(x,y,test_size=0.3,random_state=25,stratify=y)\n",
    "scaler=StandardScaler()\n",
    "x_trn_scl=scaler.fit_transform(X_train)\n",
    "x_tst_scl=scaler.transform(X_test)\n",
    "knn=KNeighborsClassifier(n_neighbors=1)\n",
    "knn.fit(x_trn_scl,y_train)\n",
    "y_pred=knn.predict(x_tst_scl)\n",
    "accuracy_score(y_test,y_pred)\n",
    "ks=[1,2,3,4,5,6,7,8,9,10]\n",
    "scores=[]\n",
    "for k in ks:\n",
    "    knn=KNeighborsClassifier(n_neighbors=k)\n",
    "    knn.fit(x_trn_scl,y_train)\n",
    "    y_pred=knn.predict(x_tst_scl)\n",
    "    scores.append([k,accuracy_score(y_test,y_pred)])\n",
    "    df_scores=pd.DataFrame(scores,columns=['k','acc_score'])\n",
    "\n"
   ],
   "id": "61fc136415d1e189",
   "outputs": [],
   "execution_count": 19
  },
  {
   "metadata": {
    "ExecuteTime": {
     "end_time": "2025-10-24T11:04:37.853369Z",
     "start_time": "2025-10-24T11:04:37.833566Z"
    }
   },
   "cell_type": "code",
   "source": [
    "df_scores=pd.DataFrame(scores,columns=['k','acc_score'])\n",
    "df_scores.sort_values('acc_score',ascending=False)"
   ],
   "id": "445b9ca469a4de76",
   "outputs": [
    {
     "data": {
      "text/plain": [
       "    k  acc_score\n",
       "2   3   0.728346\n",
       "3   4   0.716535\n",
       "9  10   0.708661\n",
       "6   7   0.700787\n",
       "7   8   0.696850\n",
       "4   5   0.696850\n",
       "5   6   0.692913\n",
       "8   9   0.688976\n",
       "0   1   0.653543\n",
       "1   2   0.645669"
      ],
      "text/html": [
       "<div>\n",
       "<style scoped>\n",
       "    .dataframe tbody tr th:only-of-type {\n",
       "        vertical-align: middle;\n",
       "    }\n",
       "\n",
       "    .dataframe tbody tr th {\n",
       "        vertical-align: top;\n",
       "    }\n",
       "\n",
       "    .dataframe thead th {\n",
       "        text-align: right;\n",
       "    }\n",
       "</style>\n",
       "<table border=\"1\" class=\"dataframe\">\n",
       "  <thead>\n",
       "    <tr style=\"text-align: right;\">\n",
       "      <th></th>\n",
       "      <th>k</th>\n",
       "      <th>acc_score</th>\n",
       "    </tr>\n",
       "  </thead>\n",
       "  <tbody>\n",
       "    <tr>\n",
       "      <th>2</th>\n",
       "      <td>3</td>\n",
       "      <td>0.728346</td>\n",
       "    </tr>\n",
       "    <tr>\n",
       "      <th>3</th>\n",
       "      <td>4</td>\n",
       "      <td>0.716535</td>\n",
       "    </tr>\n",
       "    <tr>\n",
       "      <th>9</th>\n",
       "      <td>10</td>\n",
       "      <td>0.708661</td>\n",
       "    </tr>\n",
       "    <tr>\n",
       "      <th>6</th>\n",
       "      <td>7</td>\n",
       "      <td>0.700787</td>\n",
       "    </tr>\n",
       "    <tr>\n",
       "      <th>7</th>\n",
       "      <td>8</td>\n",
       "      <td>0.696850</td>\n",
       "    </tr>\n",
       "    <tr>\n",
       "      <th>4</th>\n",
       "      <td>5</td>\n",
       "      <td>0.696850</td>\n",
       "    </tr>\n",
       "    <tr>\n",
       "      <th>5</th>\n",
       "      <td>6</td>\n",
       "      <td>0.692913</td>\n",
       "    </tr>\n",
       "    <tr>\n",
       "      <th>8</th>\n",
       "      <td>9</td>\n",
       "      <td>0.688976</td>\n",
       "    </tr>\n",
       "    <tr>\n",
       "      <th>0</th>\n",
       "      <td>1</td>\n",
       "      <td>0.653543</td>\n",
       "    </tr>\n",
       "    <tr>\n",
       "      <th>1</th>\n",
       "      <td>2</td>\n",
       "      <td>0.645669</td>\n",
       "    </tr>\n",
       "  </tbody>\n",
       "</table>\n",
       "</div>"
      ]
     },
     "execution_count": 20,
     "metadata": {},
     "output_type": "execute_result"
    }
   ],
   "execution_count": 20
  },
  {
   "metadata": {
    "ExecuteTime": {
     "end_time": "2025-10-24T11:29:49.942267Z",
     "start_time": "2025-10-24T11:29:49.861406Z"
    }
   },
   "cell_type": "code",
   "source": [
    "from sklearn.metrics import classification_report\n",
    "from sklearn.linear_model import LogisticRegression\n",
    "print(classification_report(y_test,y_pred))\n",
    "lr=LogisticRegression(solver='saga')\n",
    "lr.fit(x_trn_scl,y_train)\n",
    "y_pred=lr.predict(x_tst_scl)\n",
    "print(y_pred)\n",
    "print(classification_report(y_test,y_pred))"
   ],
   "id": "41be473ed2218a94",
   "outputs": [
    {
     "name": "stdout",
     "output_type": "stream",
     "text": [
      "              precision    recall  f1-score   support\n",
      "\n",
      "         bus       0.89      0.91      0.90        65\n",
      "        opel       0.71      0.66      0.68        64\n",
      "        saab       0.72      0.72      0.72        65\n",
      "         van       0.91      0.97      0.94        60\n",
      "\n",
      "    accuracy                           0.81       254\n",
      "   macro avg       0.81      0.81      0.81       254\n",
      "weighted avg       0.81      0.81      0.81       254\n",
      "\n",
      "['saab' 'bus' 'saab' 'van' 'bus' 'saab' 'van' 'bus' 'opel' 'saab' 'van'\n",
      " 'bus' 'bus' 'bus' 'van' 'bus' 'van' 'bus' 'opel' 'saab' 'van' 'saab'\n",
      " 'opel' 'van' 'saab' 'bus' 'saab' 'bus' 'saab' 'opel' 'saab' 'van' 'van'\n",
      " 'van' 'saab' 'opel' 'van' 'opel' 'opel' 'van' 'van' 'opel' 'opel' 'van'\n",
      " 'bus' 'bus' 'opel' 'saab' 'opel' 'bus' 'opel' 'van' 'bus' 'saab' 'saab'\n",
      " 'saab' 'saab' 'saab' 'opel' 'bus' 'bus' 'van' 'opel' 'saab' 'van' 'van'\n",
      " 'saab' 'van' 'bus' 'van' 'opel' 'bus' 'van' 'opel' 'saab' 'van' 'opel'\n",
      " 'van' 'saab' 'saab' 'saab' 'bus' 'opel' 'saab' 'opel' 'saab' 'van' 'van'\n",
      " 'opel' 'opel' 'saab' 'saab' 'bus' 'van' 'opel' 'saab' 'opel' 'saab' 'van'\n",
      " 'van' 'bus' 'bus' 'opel' 'opel' 'bus' 'opel' 'opel' 'van' 'saab' 'van'\n",
      " 'bus' 'van' 'van' 'van' 'bus' 'bus' 'opel' 'opel' 'bus' 'bus' 'bus' 'bus'\n",
      " 'bus' 'bus' 'opel' 'saab' 'opel' 'opel' 'van' 'opel' 'opel' 'opel' 'opel'\n",
      " 'bus' 'van' 'bus' 'opel' 'saab' 'bus' 'bus' 'saab' 'opel' 'bus' 'saab'\n",
      " 'saab' 'van' 'van' 'saab' 'opel' 'bus' 'bus' 'bus' 'van' 'saab' 'bus'\n",
      " 'bus' 'van' 'van' 'saab' 'opel' 'opel' 'opel' 'saab' 'van' 'saab' 'saab'\n",
      " 'saab' 'van' 'van' 'opel' 'bus' 'bus' 'bus' 'bus' 'saab' 'van' 'bus'\n",
      " 'bus' 'van' 'van' 'opel' 'van' 'saab' 'saab' 'opel' 'opel' 'opel' 'saab'\n",
      " 'opel' 'saab' 'van' 'van' 'bus' 'opel' 'van' 'saab' 'opel' 'opel' 'van'\n",
      " 'opel' 'bus' 'bus' 'opel' 'opel' 'bus' 'saab' 'bus' 'bus' 'saab' 'opel'\n",
      " 'van' 'saab' 'opel' 'bus' 'saab' 'bus' 'saab' 'van' 'van' 'saab' 'saab'\n",
      " 'opel' 'van' 'saab' 'saab' 'van' 'bus' 'saab' 'saab' 'bus' 'opel' 'van'\n",
      " 'saab' 'saab' 'van' 'saab' 'van' 'bus' 'bus' 'van' 'saab' 'bus' 'opel'\n",
      " 'bus' 'van' 'saab' 'bus' 'van' 'bus' 'bus' 'opel' 'bus' 'van' 'bus']\n",
      "              precision    recall  f1-score   support\n",
      "\n",
      "         bus       0.88      0.91      0.89        65\n",
      "        opel       0.70      0.66      0.68        64\n",
      "        saab       0.72      0.71      0.71        65\n",
      "         van       0.92      0.97      0.94        60\n",
      "\n",
      "    accuracy                           0.81       254\n",
      "   macro avg       0.80      0.81      0.81       254\n",
      "weighted avg       0.80      0.81      0.80       254\n",
      "\n"
     ]
    },
    {
     "name": "stderr",
     "output_type": "stream",
     "text": [
      "C:\\Users\\dai\\PycharmProjects\\PythonLab\\.venv\\Lib\\site-packages\\sklearn\\linear_model\\_sag.py:348: ConvergenceWarning: The max_iter was reached which means the coef_ did not converge\n",
      "  warnings.warn(\n"
     ]
    }
   ],
   "execution_count": 25
  },
  {
   "metadata": {
    "ExecuteTime": {
     "end_time": "2025-10-24T12:59:50.322473Z",
     "start_time": "2025-10-24T12:59:50.274731Z"
    }
   },
   "cell_type": "code",
   "source": [
    "from sklearn.metrics import roc_curve\n",
    "df=pd.read_csv(\"comp_prob.csv\")\n",
    "y_pred_probs1=df['yprob_1']\n",
    "y_pred_probs2=df['yprob_2']\n",
    "y_test=df['y_test']\n"
   ],
   "id": "83db4cc3b732696e",
   "outputs": [],
   "execution_count": 26
  },
  {
   "metadata": {
    "ExecuteTime": {
     "end_time": "2025-10-24T13:01:43.591075Z",
     "start_time": "2025-10-24T13:01:42.997354Z"
    }
   },
   "cell_type": "code",
   "source": [
    "fpr,tpr,thresholds=roc_curve(y_test,y_pred_probs1)\n",
    "#plot ROC Curve\n",
    "import matplotlib.pyplot as plt\n",
    "plt.plot(fpr,tpr)\n",
    "plt.xlabel('False Positive Rate')\n",
    "plt.ylabel('True Positive Rate')\n",
    "plt.show()"
   ],
   "id": "d85cf240e7bf7c17",
   "outputs": [
    {
     "data": {
      "text/plain": [
       "<Figure size 640x480 with 1 Axes>"
      ],
      "image/png": "[encoded data removed]"
     },
     "metadata": {},
     "output_type": "display_data",
     "jetTransient": {
      "display_id": null
     }
    }
   ],
   "execution_count": 27
  },
  {
   "metadata": {
    "ExecuteTime": {
     "end_time": "2025-10-24T13:02:22.965415Z",
     "start_time": "2025-10-24T13:02:22.816371Z"
    }
   },
   "cell_type": "code",
   "source": "roc_auc_score(y_test,y_pred_probs1)",
   "id": "21d179f5e804c7fa",
   "outputs": [
    {
     "ename": "NameError",
     "evalue": "name 'roc_auc_score' is not defined",
     "output_type": "error",
     "traceback": [
      "\u001B[31m---------------------------------------------------------------------------\u001B[39m",
      "\u001B[31mNameError\u001B[39m                                 Traceback (most recent call last)",
      "\u001B[36mCell\u001B[39m\u001B[36m \u001B[39m\u001B[32mIn[28]\u001B[39m\u001B[32m, line 1\u001B[39m\n\u001B[32m----> \u001B[39m\u001B[32m1\u001B[39m \u001B[43mroc_auc_score\u001B[49m(y_test,y_pred_probs1)\n",
      "\u001B[31mNameError\u001B[39m: name 'roc_auc_score' is not defined"
     ]
    }
   ],
   "execution_count": 28
  },
  {
   "metadata": {
    "ExecuteTime": {
     "end_time": "2025-10-24T13:36:21.915868Z",
     "start_time": "2025-10-24T13:36:21.234490Z"
    }
   },
   "cell_type": "code",
   "source": [
    "lr=LogisticRegression()\n",
    "lr.fit(X_train,y_train)\n",
    "y_pred_prob=lr.predict_proba(X_test)\n",
    "y_pred=lr.predict(X_test)\n",
    "fpr,tpr,thresholds=roc_curve(y_test,y_pred_prob)"
   ],
   "id": "52ffda9806bc9082",
   "outputs": [
    {
     "name": "stderr",
     "output_type": "stream",
     "text": [
      "C:\\Users\\dai\\PycharmProjects\\PythonLab\\.venv\\Lib\\site-packages\\sklearn\\linear_model\\_logistic.py:473: ConvergenceWarning: lbfgs failed to converge after 100 iteration(s) (status=1):\n",
      "STOP: TOTAL NO. OF ITERATIONS REACHED LIMIT\n",
      "\n",
      "Increase the number of iterations to improve the convergence (max_iter=100).\n",
      "You might also want to scale the data as shown in:\n",
      "    https://scikit-learn.org/stable/modules/preprocessing.html\n",
      "Please also refer to the documentation for alternative solver options:\n",
      "    https://scikit-learn.org/stable/modules/linear_model.html#logistic-regression\n",
      "  n_iter_i = _check_optimize_result(\n"
     ]
    },
    {
     "ename": "ValueError",
     "evalue": "Found input variables with inconsistent numbers of samples: [10, 254]",
     "output_type": "error",
     "traceback": [
      "\u001B[31m---------------------------------------------------------------------------\u001B[39m",
      "\u001B[31mValueError\u001B[39m                                Traceback (most recent call last)",
      "\u001B[36mCell\u001B[39m\u001B[36m \u001B[39m\u001B[32mIn[29]\u001B[39m\u001B[32m, line 5\u001B[39m\n\u001B[32m      3\u001B[39m y_pred_prob=lr.predict_proba(X_test)\n\u001B[32m      4\u001B[39m y_pred=lr.predict(X_test)\n\u001B[32m----> \u001B[39m\u001B[32m5\u001B[39m fpr,tpr,thresholds=\u001B[43mroc_curve\u001B[49m\u001B[43m(\u001B[49m\u001B[43my_test\u001B[49m\u001B[43m,\u001B[49m\u001B[43my_pred_prob\u001B[49m\u001B[43m)\u001B[49m\n",
      "\u001B[36mFile \u001B[39m\u001B[32m~\\PycharmProjects\\PythonLab\\.venv\\Lib\\site-packages\\sklearn\\utils\\_param_validation.py:218\u001B[39m, in \u001B[36mvalidate_params.<locals>.decorator.<locals>.wrapper\u001B[39m\u001B[34m(*args, **kwargs)\u001B[39m\n\u001B[32m    212\u001B[39m \u001B[38;5;28;01mtry\u001B[39;00m:\n\u001B[32m    213\u001B[39m     \u001B[38;5;28;01mwith\u001B[39;00m config_context(\n\u001B[32m    214\u001B[39m         skip_parameter_validation=(\n\u001B[32m    215\u001B[39m             prefer_skip_nested_validation \u001B[38;5;129;01mor\u001B[39;00m global_skip_validation\n\u001B[32m    216\u001B[39m         )\n\u001B[32m    217\u001B[39m     ):\n\u001B[32m--> \u001B[39m\u001B[32m218\u001B[39m         \u001B[38;5;28;01mreturn\u001B[39;00m \u001B[43mfunc\u001B[49m\u001B[43m(\u001B[49m\u001B[43m*\u001B[49m\u001B[43margs\u001B[49m\u001B[43m,\u001B[49m\u001B[43m \u001B[49m\u001B[43m*\u001B[49m\u001B[43m*\u001B[49m\u001B[43mkwargs\u001B[49m\u001B[43m)\u001B[49m\n\u001B[32m    219\u001B[39m \u001B[38;5;28;01mexcept\u001B[39;00m InvalidParameterError \u001B[38;5;28;01mas\u001B[39;00m e:\n\u001B[32m    220\u001B[39m     \u001B[38;5;66;03m# When the function is just a wrapper around an estimator, we allow\u001B[39;00m\n\u001B[32m    221\u001B[39m     \u001B[38;5;66;03m# the function to delegate validation to the estimator, but we replace\u001B[39;00m\n\u001B[32m    222\u001B[39m     \u001B[38;5;66;03m# the name of the estimator by the name of the function in the error\u001B[39;00m\n\u001B[32m    223\u001B[39m     \u001B[38;5;66;03m# message to avoid confusion.\u001B[39;00m\n\u001B[32m    224\u001B[39m     msg = re.sub(\n\u001B[32m    225\u001B[39m         \u001B[33mr\u001B[39m\u001B[33m\"\u001B[39m\u001B[33mparameter of \u001B[39m\u001B[33m\\\u001B[39m\u001B[33mw+ must be\u001B[39m\u001B[33m\"\u001B[39m,\n\u001B[32m    226\u001B[39m         \u001B[33mf\u001B[39m\u001B[33m\"\u001B[39m\u001B[33mparameter of \u001B[39m\u001B[38;5;132;01m{\u001B[39;00mfunc.\u001B[34m__qualname__\u001B[39m\u001B[38;5;132;01m}\u001B[39;00m\u001B[33m must be\u001B[39m\u001B[33m\"\u001B[39m,\n\u001B[32m    227\u001B[39m         \u001B[38;5;28mstr\u001B[39m(e),\n\u001B[32m    228\u001B[39m     )\n",
      "\u001B[36mFile \u001B[39m\u001B[32m~\\PycharmProjects\\PythonLab\\.venv\\Lib\\site-packages\\sklearn\\metrics\\_ranking.py:1163\u001B[39m, in \u001B[36mroc_curve\u001B[39m\u001B[34m(y_true, y_score, pos_label, sample_weight, drop_intermediate)\u001B[39m\n\u001B[32m   1059\u001B[39m \u001B[38;5;129m@validate_params\u001B[39m(\n\u001B[32m   1060\u001B[39m     {\n\u001B[32m   1061\u001B[39m         \u001B[33m\"\u001B[39m\u001B[33my_true\u001B[39m\u001B[33m\"\u001B[39m: [\u001B[33m\"\u001B[39m\u001B[33marray-like\u001B[39m\u001B[33m\"\u001B[39m],\n\u001B[32m   (...)\u001B[39m\u001B[32m   1070\u001B[39m     y_true, y_score, *, pos_label=\u001B[38;5;28;01mNone\u001B[39;00m, sample_weight=\u001B[38;5;28;01mNone\u001B[39;00m, drop_intermediate=\u001B[38;5;28;01mTrue\u001B[39;00m\n\u001B[32m   1071\u001B[39m ):\n\u001B[32m   1072\u001B[39m \u001B[38;5;250m    \u001B[39m\u001B[33;03m\"\"\"Compute Receiver operating characteristic (ROC).\u001B[39;00m\n\u001B[32m   1073\u001B[39m \n\u001B[32m   1074\u001B[39m \u001B[33;03m    Note: this implementation is restricted to the binary classification task.\u001B[39;00m\n\u001B[32m   (...)\u001B[39m\u001B[32m   1161\u001B[39m \u001B[33;03m    array([ inf, 0.8 , 0.4 , 0.35, 0.1 ])\u001B[39;00m\n\u001B[32m   1162\u001B[39m \u001B[33;03m    \"\"\"\u001B[39;00m\n\u001B[32m-> \u001B[39m\u001B[32m1163\u001B[39m     fps, tps, thresholds = \u001B[43m_binary_clf_curve\u001B[49m\u001B[43m(\u001B[49m\n\u001B[32m   1164\u001B[39m \u001B[43m        \u001B[49m\u001B[43my_true\u001B[49m\u001B[43m,\u001B[49m\u001B[43m \u001B[49m\u001B[43my_score\u001B[49m\u001B[43m,\u001B[49m\u001B[43m \u001B[49m\u001B[43mpos_label\u001B[49m\u001B[43m=\u001B[49m\u001B[43mpos_label\u001B[49m\u001B[43m,\u001B[49m\u001B[43m \u001B[49m\u001B[43msample_weight\u001B[49m\u001B[43m=\u001B[49m\u001B[43msample_weight\u001B[49m\n\u001B[32m   1165\u001B[39m \u001B[43m    \u001B[49m\u001B[43m)\u001B[49m\n\u001B[32m   1167\u001B[39m     \u001B[38;5;66;03m# Attempt to drop thresholds corresponding to points in between and\u001B[39;00m\n\u001B[32m   1168\u001B[39m     \u001B[38;5;66;03m# collinear with other points. These are always suboptimal and do not\u001B[39;00m\n\u001B[32m   1169\u001B[39m     \u001B[38;5;66;03m# appear on a plotted ROC curve (and thus do not affect the AUC).\u001B[39;00m\n\u001B[32m   (...)\u001B[39m\u001B[32m   1174\u001B[39m     \u001B[38;5;66;03m# but does not drop more complicated cases like fps = [1, 3, 7],\u001B[39;00m\n\u001B[32m   1175\u001B[39m     \u001B[38;5;66;03m# tps = [1, 2, 4]; there is no harm in keeping too many thresholds.\u001B[39;00m\n\u001B[32m   1176\u001B[39m     \u001B[38;5;28;01mif\u001B[39;00m drop_intermediate \u001B[38;5;129;01mand\u001B[39;00m \u001B[38;5;28mlen\u001B[39m(fps) > \u001B[32m2\u001B[39m:\n",
      "\u001B[36mFile \u001B[39m\u001B[32m~\\PycharmProjects\\PythonLab\\.venv\\Lib\\site-packages\\sklearn\\metrics\\_ranking.py:865\u001B[39m, in \u001B[36m_binary_clf_curve\u001B[39m\u001B[34m(y_true, y_score, pos_label, sample_weight)\u001B[39m\n\u001B[32m    862\u001B[39m \u001B[38;5;28;01mif\u001B[39;00m \u001B[38;5;129;01mnot\u001B[39;00m (y_type == \u001B[33m\"\u001B[39m\u001B[33mbinary\u001B[39m\u001B[33m\"\u001B[39m \u001B[38;5;129;01mor\u001B[39;00m (y_type == \u001B[33m\"\u001B[39m\u001B[33mmulticlass\u001B[39m\u001B[33m\"\u001B[39m \u001B[38;5;129;01mand\u001B[39;00m pos_label \u001B[38;5;129;01mis\u001B[39;00m \u001B[38;5;129;01mnot\u001B[39;00m \u001B[38;5;28;01mNone\u001B[39;00m)):\n\u001B[32m    863\u001B[39m     \u001B[38;5;28;01mraise\u001B[39;00m \u001B[38;5;167;01mValueError\u001B[39;00m(\u001B[33m\"\u001B[39m\u001B[38;5;132;01m{0}\u001B[39;00m\u001B[33m format is not supported\u001B[39m\u001B[33m\"\u001B[39m.format(y_type))\n\u001B[32m--> \u001B[39m\u001B[32m865\u001B[39m \u001B[43mcheck_consistent_length\u001B[49m\u001B[43m(\u001B[49m\u001B[43my_true\u001B[49m\u001B[43m,\u001B[49m\u001B[43m \u001B[49m\u001B[43my_score\u001B[49m\u001B[43m,\u001B[49m\u001B[43m \u001B[49m\u001B[43msample_weight\u001B[49m\u001B[43m)\u001B[49m\n\u001B[32m    866\u001B[39m y_true = column_or_1d(y_true)\n\u001B[32m    867\u001B[39m y_score = column_or_1d(y_score)\n",
      "\u001B[36mFile \u001B[39m\u001B[32m~\\PycharmProjects\\PythonLab\\.venv\\Lib\\site-packages\\sklearn\\utils\\validation.py:473\u001B[39m, in \u001B[36mcheck_consistent_length\u001B[39m\u001B[34m(*arrays)\u001B[39m\n\u001B[32m    471\u001B[39m lengths = [_num_samples(X) \u001B[38;5;28;01mfor\u001B[39;00m X \u001B[38;5;129;01min\u001B[39;00m arrays \u001B[38;5;28;01mif\u001B[39;00m X \u001B[38;5;129;01mis\u001B[39;00m \u001B[38;5;129;01mnot\u001B[39;00m \u001B[38;5;28;01mNone\u001B[39;00m]\n\u001B[32m    472\u001B[39m \u001B[38;5;28;01mif\u001B[39;00m \u001B[38;5;28mlen\u001B[39m(\u001B[38;5;28mset\u001B[39m(lengths)) > \u001B[32m1\u001B[39m:\n\u001B[32m--> \u001B[39m\u001B[32m473\u001B[39m     \u001B[38;5;28;01mraise\u001B[39;00m \u001B[38;5;167;01mValueError\u001B[39;00m(\n\u001B[32m    474\u001B[39m         \u001B[33m\"\u001B[39m\u001B[33mFound input variables with inconsistent numbers of samples: \u001B[39m\u001B[38;5;132;01m%r\u001B[39;00m\u001B[33m\"\u001B[39m\n\u001B[32m    475\u001B[39m         % [\u001B[38;5;28mint\u001B[39m(l) \u001B[38;5;28;01mfor\u001B[39;00m l \u001B[38;5;129;01min\u001B[39;00m lengths]\n\u001B[32m    476\u001B[39m     )\n",
      "\u001B[31mValueError\u001B[39m: Found input variables with inconsistent numbers of samples: [10, 254]"
     ]
    }
   ],
   "execution_count": 29
  },
  {
   "metadata": {
    "ExecuteTime": {
     "end_time": "2025-10-24T13:42:26.703191Z",
     "start_time": "2025-10-24T13:42:26.532460Z"
    }
   },
   "cell_type": "code",
   "source": [
    "df=pd.read_csv(\"HR_comma_sep.csv\")\n",
    "X_train,X_test,y_train,y_test=train_test_split(x,y,test_size=0.3,random_state=25,stratify=y)\n",
    "scaler=StandardScaler()\n",
    "x_trn_scl=scaler.fit_transform(X_train)\n",
    "x_tst_scl=scaler.transform(X_test)\n",
    "y_pred_prob=lr.predict_proba(x_tst_scl)\n",
    "y_pred=lr.predict(x_tst_scl)\n",
    "fpr,tpr,thresholds=roc_curve(y_test,y_pred_prob)\n",
    "accuracy_score(y_test,y_pred)"
   ],
   "id": "cf5e13abdea7bc73",
   "outputs": [
    {
     "name": "stderr",
     "output_type": "stream",
     "text": [
      "C:\\Users\\dai\\PycharmProjects\\PythonLab\\.venv\\Lib\\site-packages\\sklearn\\utils\\validation.py:2749: UserWarning: X does not have valid feature names, but LogisticRegression was fitted with feature names\n",
      "  warnings.warn(\n",
      "C:\\Users\\dai\\PycharmProjects\\PythonLab\\.venv\\Lib\\site-packages\\sklearn\\utils\\validation.py:2749: UserWarning: X does not have valid feature names, but LogisticRegression was fitted with feature names\n",
      "  warnings.warn(\n"
     ]
    },
    {
     "ename": "ValueError",
     "evalue": "multiclass format is not supported",
     "output_type": "error",
     "traceback": [
      "\u001B[31m---------------------------------------------------------------------------\u001B[39m",
      "\u001B[31mValueError\u001B[39m                                Traceback (most recent call last)",
      "\u001B[36mCell\u001B[39m\u001B[36m \u001B[39m\u001B[32mIn[31]\u001B[39m\u001B[32m, line 8\u001B[39m\n\u001B[32m      6\u001B[39m y_pred_prob=lr.predict_proba(x_tst_scl)\n\u001B[32m      7\u001B[39m y_pred=lr.predict(x_tst_scl)\n\u001B[32m----> \u001B[39m\u001B[32m8\u001B[39m fpr,tpr,thresholds=\u001B[43mroc_curve\u001B[49m\u001B[43m(\u001B[49m\u001B[43my_test\u001B[49m\u001B[43m,\u001B[49m\u001B[43my_pred_prob\u001B[49m\u001B[43m)\u001B[49m\n\u001B[32m      9\u001B[39m accuracy_score(y_test,y_pred)\n",
      "\u001B[36mFile \u001B[39m\u001B[32m~\\PycharmProjects\\PythonLab\\.venv\\Lib\\site-packages\\sklearn\\utils\\_param_validation.py:218\u001B[39m, in \u001B[36mvalidate_params.<locals>.decorator.<locals>.wrapper\u001B[39m\u001B[34m(*args, **kwargs)\u001B[39m\n\u001B[32m    212\u001B[39m \u001B[38;5;28;01mtry\u001B[39;00m:\n\u001B[32m    213\u001B[39m     \u001B[38;5;28;01mwith\u001B[39;00m config_context(\n\u001B[32m    214\u001B[39m         skip_parameter_validation=(\n\u001B[32m    215\u001B[39m             prefer_skip_nested_validation \u001B[38;5;129;01mor\u001B[39;00m global_skip_validation\n\u001B[32m    216\u001B[39m         )\n\u001B[32m    217\u001B[39m     ):\n\u001B[32m--> \u001B[39m\u001B[32m218\u001B[39m         \u001B[38;5;28;01mreturn\u001B[39;00m \u001B[43mfunc\u001B[49m\u001B[43m(\u001B[49m\u001B[43m*\u001B[49m\u001B[43margs\u001B[49m\u001B[43m,\u001B[49m\u001B[43m \u001B[49m\u001B[43m*\u001B[49m\u001B[43m*\u001B[49m\u001B[43mkwargs\u001B[49m\u001B[43m)\u001B[49m\n\u001B[32m    219\u001B[39m \u001B[38;5;28;01mexcept\u001B[39;00m InvalidParameterError \u001B[38;5;28;01mas\u001B[39;00m e:\n\u001B[32m    220\u001B[39m     \u001B[38;5;66;03m# When the function is just a wrapper around an estimator, we allow\u001B[39;00m\n\u001B[32m    221\u001B[39m     \u001B[38;5;66;03m# the function to delegate validation to the estimator, but we replace\u001B[39;00m\n\u001B[32m    222\u001B[39m     \u001B[38;5;66;03m# the name of the estimator by the name of the function in the error\u001B[39;00m\n\u001B[32m    223\u001B[39m     \u001B[38;5;66;03m# message to avoid confusion.\u001B[39;00m\n\u001B[32m    224\u001B[39m     msg = re.sub(\n\u001B[32m    225\u001B[39m         \u001B[33mr\u001B[39m\u001B[33m\"\u001B[39m\u001B[33mparameter of \u001B[39m\u001B[33m\\\u001B[39m\u001B[33mw+ must be\u001B[39m\u001B[33m\"\u001B[39m,\n\u001B[32m    226\u001B[39m         \u001B[33mf\u001B[39m\u001B[33m\"\u001B[39m\u001B[33mparameter of \u001B[39m\u001B[38;5;132;01m{\u001B[39;00mfunc.\u001B[34m__qualname__\u001B[39m\u001B[38;5;132;01m}\u001B[39;00m\u001B[33m must be\u001B[39m\u001B[33m\"\u001B[39m,\n\u001B[32m    227\u001B[39m         \u001B[38;5;28mstr\u001B[39m(e),\n\u001B[32m    228\u001B[39m     )\n",
      "\u001B[36mFile \u001B[39m\u001B[32m~\\PycharmProjects\\PythonLab\\.venv\\Lib\\site-packages\\sklearn\\metrics\\_ranking.py:1163\u001B[39m, in \u001B[36mroc_curve\u001B[39m\u001B[34m(y_true, y_score, pos_label, sample_weight, drop_intermediate)\u001B[39m\n\u001B[32m   1059\u001B[39m \u001B[38;5;129m@validate_params\u001B[39m(\n\u001B[32m   1060\u001B[39m     {\n\u001B[32m   1061\u001B[39m         \u001B[33m\"\u001B[39m\u001B[33my_true\u001B[39m\u001B[33m\"\u001B[39m: [\u001B[33m\"\u001B[39m\u001B[33marray-like\u001B[39m\u001B[33m\"\u001B[39m],\n\u001B[32m   (...)\u001B[39m\u001B[32m   1070\u001B[39m     y_true, y_score, *, pos_label=\u001B[38;5;28;01mNone\u001B[39;00m, sample_weight=\u001B[38;5;28;01mNone\u001B[39;00m, drop_intermediate=\u001B[38;5;28;01mTrue\u001B[39;00m\n\u001B[32m   1071\u001B[39m ):\n\u001B[32m   1072\u001B[39m \u001B[38;5;250m    \u001B[39m\u001B[33;03m\"\"\"Compute Receiver operating characteristic (ROC).\u001B[39;00m\n\u001B[32m   1073\u001B[39m \n\u001B[32m   1074\u001B[39m \u001B[33;03m    Note: this implementation is restricted to the binary classification task.\u001B[39;00m\n\u001B[32m   (...)\u001B[39m\u001B[32m   1161\u001B[39m \u001B[33;03m    array([ inf, 0.8 , 0.4 , 0.35, 0.1 ])\u001B[39;00m\n\u001B[32m   1162\u001B[39m \u001B[33;03m    \"\"\"\u001B[39;00m\n\u001B[32m-> \u001B[39m\u001B[32m1163\u001B[39m     fps, tps, thresholds = \u001B[43m_binary_clf_curve\u001B[49m\u001B[43m(\u001B[49m\n\u001B[32m   1164\u001B[39m \u001B[43m        \u001B[49m\u001B[43my_true\u001B[49m\u001B[43m,\u001B[49m\u001B[43m \u001B[49m\u001B[43my_score\u001B[49m\u001B[43m,\u001B[49m\u001B[43m \u001B[49m\u001B[43mpos_label\u001B[49m\u001B[43m=\u001B[49m\u001B[43mpos_label\u001B[49m\u001B[43m,\u001B[49m\u001B[43m \u001B[49m\u001B[43msample_weight\u001B[49m\u001B[43m=\u001B[49m\u001B[43msample_weight\u001B[49m\n\u001B[32m   1165\u001B[39m \u001B[43m    \u001B[49m\u001B[43m)\u001B[49m\n\u001B[32m   1167\u001B[39m     \u001B[38;5;66;03m# Attempt to drop thresholds corresponding to points in between and\u001B[39;00m\n\u001B[32m   1168\u001B[39m     \u001B[38;5;66;03m# collinear with other points. These are always suboptimal and do not\u001B[39;00m\n\u001B[32m   1169\u001B[39m     \u001B[38;5;66;03m# appear on a plotted ROC curve (and thus do not affect the AUC).\u001B[39;00m\n\u001B[32m   (...)\u001B[39m\u001B[32m   1174\u001B[39m     \u001B[38;5;66;03m# but does not drop more complicated cases like fps = [1, 3, 7],\u001B[39;00m\n\u001B[32m   1175\u001B[39m     \u001B[38;5;66;03m# tps = [1, 2, 4]; there is no harm in keeping too many thresholds.\u001B[39;00m\n\u001B[32m   1176\u001B[39m     \u001B[38;5;28;01mif\u001B[39;00m drop_intermediate \u001B[38;5;129;01mand\u001B[39;00m \u001B[38;5;28mlen\u001B[39m(fps) > \u001B[32m2\u001B[39m:\n",
      "\u001B[36mFile \u001B[39m\u001B[32m~\\PycharmProjects\\PythonLab\\.venv\\Lib\\site-packages\\sklearn\\metrics\\_ranking.py:863\u001B[39m, in \u001B[36m_binary_clf_curve\u001B[39m\u001B[34m(y_true, y_score, pos_label, sample_weight)\u001B[39m\n\u001B[32m    861\u001B[39m y_type = type_of_target(y_true, input_name=\u001B[33m\"\u001B[39m\u001B[33my_true\u001B[39m\u001B[33m\"\u001B[39m)\n\u001B[32m    862\u001B[39m \u001B[38;5;28;01mif\u001B[39;00m \u001B[38;5;129;01mnot\u001B[39;00m (y_type == \u001B[33m\"\u001B[39m\u001B[33mbinary\u001B[39m\u001B[33m\"\u001B[39m \u001B[38;5;129;01mor\u001B[39;00m (y_type == \u001B[33m\"\u001B[39m\u001B[33mmulticlass\u001B[39m\u001B[33m\"\u001B[39m \u001B[38;5;129;01mand\u001B[39;00m pos_label \u001B[38;5;129;01mis\u001B[39;00m \u001B[38;5;129;01mnot\u001B[39;00m \u001B[38;5;28;01mNone\u001B[39;00m)):\n\u001B[32m--> \u001B[39m\u001B[32m863\u001B[39m     \u001B[38;5;28;01mraise\u001B[39;00m \u001B[38;5;167;01mValueError\u001B[39;00m(\u001B[33m\"\u001B[39m\u001B[38;5;132;01m{0}\u001B[39;00m\u001B[33m format is not supported\u001B[39m\u001B[33m\"\u001B[39m.format(y_type))\n\u001B[32m    865\u001B[39m check_consistent_length(y_true, y_score, sample_weight)\n\u001B[32m    866\u001B[39m y_true = column_or_1d(y_true)\n",
      "\u001B[31mValueError\u001B[39m: multiclass format is not supported"
     ]
    }
   ],
   "execution_count": 31
  },
  {
   "metadata": {},
   "cell_type": "code",
   "outputs": [],
   "execution_count": null,
   "source": [
    "df=pd.read_csv(\"comp.csv\")\n",
    "y_pred_probs1"
   ],
   "id": "97c4385dbe5df44"
  }
 ],
 "metadata": {
  "kernelspec": {
   "display_name": "Python 3",
   "language": "python",
   "name": "python3"
  },
  "language_info": {
   "codemirror_mode": {
    "name": "ipython",
    "version": 2
   },
   "file_extension": ".py",
   "mimetype": "text/x-python",
   "name": "python",
   "nbconvert_exporter": "python",
   "pygments_lexer": "ipython2",
   "version": "2.7.6"
  }
 },
 "nbformat": 4,
 "nbformat_minor": 5
}
