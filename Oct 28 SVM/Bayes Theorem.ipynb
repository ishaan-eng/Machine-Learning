{
 "cells": [
  {
   "cell_type": "code",
   "id": "initial_id",
   "metadata": {
    "collapsed": true,
    "ExecuteTime": {
     "end_time": "2025-10-28T10:34:38.600688Z",
     "start_time": "2025-10-28T10:34:38.595355Z"
    }
   },
   "source": [
    "import pandas as pd\n",
    "import numpy as np\n",
    "from sklearn.model_selection import train_test_split\n",
    "from sklearn.compose import make_column_selector,make_column_transformer\n",
    "from sklearn.metrics import classification_report, mean_absolute_error, r2_score, f1_score, accuracy_score\n",
    "from sklearn.pipeline import Pipeline\n",
    "from sklearn.preprocessing import StandardScaler, MinMaxScaler, OneHotEncoder\n",
    "from sklearn.svm import SVC\n",
    "from sklearn.preprocessing import StandardScaler,OneHotEncoder,LabelEncoder\n",
    "from ucimlrepo import fetch_ucirepo\n",
    "from sklearn.naive_bayes import BernoulliNB, CategoricalNB,GaussianNB\n"
   ],
   "outputs": [],
   "execution_count": 34
  },
  {
   "metadata": {
    "ExecuteTime": {
     "end_time": "2025-10-28T10:34:41.760947Z",
     "start_time": "2025-10-28T10:34:38.622519Z"
    }
   },
   "cell_type": "code",
   "source": [
    "car=fetch_ucirepo(id=19)\n",
    "X=car.data.features\n",
    "y=car.data.targets\n",
    "X_train,X_test,y_train,y_test=train_test_split(X,y,test_size=0.2,random_state=25,stratify=y['class'])\n",
    "le=LabelEncoder()\n",
    "y=le.fit_transform(y[\"class\"])\n",
    "le.classes_"
   ],
   "id": "de06419da5aae6b2",
   "outputs": [
    {
     "data": {
      "text/plain": [
       "array(['acc', 'good', 'unacc', 'vgood'], dtype=object)"
      ]
     },
     "execution_count": 35,
     "metadata": {},
     "output_type": "execute_result"
    }
   ],
   "execution_count": 35
  },
  {
   "metadata": {
    "ExecuteTime": {
     "end_time": "2025-10-28T10:34:41.830371Z",
     "start_time": "2025-10-28T10:34:41.788548Z"
    }
   },
   "cell_type": "code",
   "source": [
    "ohe=OneHotEncoder(drop=\"first\",sparse_output=False).set_output(transform='pandas')\n",
    "X_train_ohe=ohe.fit_transform(X_train)\n",
    "X_test_ohe=ohe.transform(X_test)\n",
    "nb=BernoulliNB()\n",
    "nb.fit(X_train_ohe,y_train)\n",
    "y_pred=nb.predict(X_test_ohe)\n",
    "print(classification_report(y_test,y_pred))"
   ],
   "id": "e800c76a5312c72b",
   "outputs": [
    {
     "name": "stdout",
     "output_type": "stream",
     "text": [
      "              precision    recall  f1-score   support\n",
      "\n",
      "         acc       0.55      0.47      0.51        77\n",
      "        good       0.38      0.21      0.27        14\n",
      "       unacc       0.85      0.95      0.89       242\n",
      "       vgood       1.00      0.23      0.38        13\n",
      "\n",
      "    accuracy                           0.78       346\n",
      "   macro avg       0.69      0.46      0.51       346\n",
      "weighted avg       0.77      0.78      0.76       346\n",
      "\n"
     ]
    },
    {
     "name": "stderr",
     "output_type": "stream",
     "text": [
      "C:\\Users\\dai\\AppData\\Roaming\\Python\\Python313\\site-packages\\sklearn\\utils\\validation.py:1406: DataConversionWarning: A column-vector y was passed when a 1d array was expected. Please change the shape of y to (n_samples, ), for example using ravel().\n",
      "  y = column_or_1d(y, warn=True)\n"
     ]
    }
   ],
   "execution_count": 36
  },
  {
   "metadata": {
    "ExecuteTime": {
     "end_time": "2025-10-28T10:34:41.872273Z",
     "start_time": "2025-10-28T10:34:41.844479Z"
    }
   },
   "cell_type": "code",
   "source": [
    "cb=CategoricalNB()\n",
    "nb.fit(X_train_ohe,y_train)\n",
    "y_pred=nb.predict(X_test_ohe)\n",
    "print(classification_report(y_test,y_pred))"
   ],
   "id": "5bd4c2f1fb76a76d",
   "outputs": [
    {
     "name": "stdout",
     "output_type": "stream",
     "text": [
      "              precision    recall  f1-score   support\n",
      "\n",
      "         acc       0.55      0.47      0.51        77\n",
      "        good       0.38      0.21      0.27        14\n",
      "       unacc       0.85      0.95      0.89       242\n",
      "       vgood       1.00      0.23      0.38        13\n",
      "\n",
      "    accuracy                           0.78       346\n",
      "   macro avg       0.69      0.46      0.51       346\n",
      "weighted avg       0.77      0.78      0.76       346\n",
      "\n"
     ]
    },
    {
     "name": "stderr",
     "output_type": "stream",
     "text": [
      "C:\\Users\\dai\\AppData\\Roaming\\Python\\Python313\\site-packages\\sklearn\\utils\\validation.py:1406: DataConversionWarning: A column-vector y was passed when a 1d array was expected. Please change the shape of y to (n_samples, ), for example using ravel().\n",
      "  y = column_or_1d(y, warn=True)\n"
     ]
    }
   ],
   "execution_count": 37
  },
  {
   "metadata": {
    "ExecuteTime": {
     "end_time": "2025-10-28T10:34:41.901813Z",
     "start_time": "2025-10-28T10:34:41.885516Z"
    }
   },
   "cell_type": "code",
   "source": [
    "cancer=pd.read_csv(\"Cancer.csv\", index_col=0   )\n",
    "X=cancer.drop('Class',axis=1)\n",
    "y=cancer['Class']\n",
    "X_train,X_test,y_train,y_test=train_test_split(X,y,test_size=0.2,random_state=25,stratify=y)\n",
    "le=LabelEncoder()\n",
    "y=le.fit_transform(y)\n",
    "le.classes_"
   ],
   "id": "b92313ba344dbdca",
   "outputs": [
    {
     "data": {
      "text/plain": [
       "array(['no-recurrence-events', 'recurrence-events'], dtype=object)"
      ]
     },
     "execution_count": 38,
     "metadata": {},
     "output_type": "execute_result"
    }
   ],
   "execution_count": 38
  },
  {
   "metadata": {
    "ExecuteTime": {
     "end_time": "2025-10-28T10:34:41.936695Z",
     "start_time": "2025-10-28T10:34:41.915377Z"
    }
   },
   "cell_type": "code",
   "source": "X",
   "id": "fe8f73a2a20eb639",
   "outputs": [
    {
     "data": {
      "text/plain": [
       "          age menopause tumor-size inv-nodes node-caps deg-malig breast  \\\n",
       "subjid                                                                    \n",
       "1       40-49   premeno   15 to 19    0 to 2       yes     three  right   \n",
       "2       50-59      ge40   15 to 19    0 to 2        no       one  right   \n",
       "3       50-59      ge40   35 to 39    0 to 2        no       two   left   \n",
       "4       40-49   premeno   35 to 39    0 to 2       yes     three  right   \n",
       "5       40-49   premeno   30 to 34    3 to 5       yes       two   left   \n",
       "...       ...       ...        ...       ...       ...       ...    ...   \n",
       "282     50-59      ge40   30 to 34    6 to 8       yes       two   left   \n",
       "283     50-59   premeno   25 to 29    3 to 5       yes       two   left   \n",
       "284     30-39   premeno   30 to 34    6 to 8       yes       two  right   \n",
       "285     50-59   premeno   15 to 19    0 to 2        no       two  right   \n",
       "286     50-59      ge40   40 to 44    0 to 2        no     three   left   \n",
       "\n",
       "       breast-quad irradiat  \n",
       "subjid                       \n",
       "1          left_up       no  \n",
       "2          central       no  \n",
       "3         left_low       no  \n",
       "4         left_low      yes  \n",
       "5         right_up       no  \n",
       "...            ...      ...  \n",
       "282       left_low       no  \n",
       "283       left_low      yes  \n",
       "284       right_up       no  \n",
       "285       left_low       no  \n",
       "286       right_up       no  \n",
       "\n",
       "[286 rows x 9 columns]"
      ],
      "text/html": [
       "<div>\n",
       "<style scoped>\n",
       "    .dataframe tbody tr th:only-of-type {\n",
       "        vertical-align: middle;\n",
       "    }\n",
       "\n",
       "    .dataframe tbody tr th {\n",
       "        vertical-align: top;\n",
       "    }\n",
       "\n",
       "    .dataframe thead th {\n",
       "        text-align: right;\n",
       "    }\n",
       "</style>\n",
       "<table border=\"1\" class=\"dataframe\">\n",
       "  <thead>\n",
       "    <tr style=\"text-align: right;\">\n",
       "      <th></th>\n",
       "      <th>age</th>\n",
       "      <th>menopause</th>\n",
       "      <th>tumor-size</th>\n",
       "      <th>inv-nodes</th>\n",
       "      <th>node-caps</th>\n",
       "      <th>deg-malig</th>\n",
       "      <th>breast</th>\n",
       "      <th>breast-quad</th>\n",
       "      <th>irradiat</th>\n",
       "    </tr>\n",
       "    <tr>\n",
       "      <th>subjid</th>\n",
       "      <th></th>\n",
       "      <th></th>\n",
       "      <th></th>\n",
       "      <th></th>\n",
       "      <th></th>\n",
       "      <th></th>\n",
       "      <th></th>\n",
       "      <th></th>\n",
       "      <th></th>\n",
       "    </tr>\n",
       "  </thead>\n",
       "  <tbody>\n",
       "    <tr>\n",
       "      <th>1</th>\n",
       "      <td>40-49</td>\n",
       "      <td>premeno</td>\n",
       "      <td>15 to 19</td>\n",
       "      <td>0 to 2</td>\n",
       "      <td>yes</td>\n",
       "      <td>three</td>\n",
       "      <td>right</td>\n",
       "      <td>left_up</td>\n",
       "      <td>no</td>\n",
       "    </tr>\n",
       "    <tr>\n",
       "      <th>2</th>\n",
       "      <td>50-59</td>\n",
       "      <td>ge40</td>\n",
       "      <td>15 to 19</td>\n",
       "      <td>0 to 2</td>\n",
       "      <td>no</td>\n",
       "      <td>one</td>\n",
       "      <td>right</td>\n",
       "      <td>central</td>\n",
       "      <td>no</td>\n",
       "    </tr>\n",
       "    <tr>\n",
       "      <th>3</th>\n",
       "      <td>50-59</td>\n",
       "      <td>ge40</td>\n",
       "      <td>35 to 39</td>\n",
       "      <td>0 to 2</td>\n",
       "      <td>no</td>\n",
       "      <td>two</td>\n",
       "      <td>left</td>\n",
       "      <td>left_low</td>\n",
       "      <td>no</td>\n",
       "    </tr>\n",
       "    <tr>\n",
       "      <th>4</th>\n",
       "      <td>40-49</td>\n",
       "      <td>premeno</td>\n",
       "      <td>35 to 39</td>\n",
       "      <td>0 to 2</td>\n",
       "      <td>yes</td>\n",
       "      <td>three</td>\n",
       "      <td>right</td>\n",
       "      <td>left_low</td>\n",
       "      <td>yes</td>\n",
       "    </tr>\n",
       "    <tr>\n",
       "      <th>5</th>\n",
       "      <td>40-49</td>\n",
       "      <td>premeno</td>\n",
       "      <td>30 to 34</td>\n",
       "      <td>3 to 5</td>\n",
       "      <td>yes</td>\n",
       "      <td>two</td>\n",
       "      <td>left</td>\n",
       "      <td>right_up</td>\n",
       "      <td>no</td>\n",
       "    </tr>\n",
       "    <tr>\n",
       "      <th>...</th>\n",
       "      <td>...</td>\n",
       "      <td>...</td>\n",
       "      <td>...</td>\n",
       "      <td>...</td>\n",
       "      <td>...</td>\n",
       "      <td>...</td>\n",
       "      <td>...</td>\n",
       "      <td>...</td>\n",
       "      <td>...</td>\n",
       "    </tr>\n",
       "    <tr>\n",
       "      <th>282</th>\n",
       "      <td>50-59</td>\n",
       "      <td>ge40</td>\n",
       "      <td>30 to 34</td>\n",
       "      <td>6 to 8</td>\n",
       "      <td>yes</td>\n",
       "      <td>two</td>\n",
       "      <td>left</td>\n",
       "      <td>left_low</td>\n",
       "      <td>no</td>\n",
       "    </tr>\n",
       "    <tr>\n",
       "      <th>283</th>\n",
       "      <td>50-59</td>\n",
       "      <td>premeno</td>\n",
       "      <td>25 to 29</td>\n",
       "      <td>3 to 5</td>\n",
       "      <td>yes</td>\n",
       "      <td>two</td>\n",
       "      <td>left</td>\n",
       "      <td>left_low</td>\n",
       "      <td>yes</td>\n",
       "    </tr>\n",
       "    <tr>\n",
       "      <th>284</th>\n",
       "      <td>30-39</td>\n",
       "      <td>premeno</td>\n",
       "      <td>30 to 34</td>\n",
       "      <td>6 to 8</td>\n",
       "      <td>yes</td>\n",
       "      <td>two</td>\n",
       "      <td>right</td>\n",
       "      <td>right_up</td>\n",
       "      <td>no</td>\n",
       "    </tr>\n",
       "    <tr>\n",
       "      <th>285</th>\n",
       "      <td>50-59</td>\n",
       "      <td>premeno</td>\n",
       "      <td>15 to 19</td>\n",
       "      <td>0 to 2</td>\n",
       "      <td>no</td>\n",
       "      <td>two</td>\n",
       "      <td>right</td>\n",
       "      <td>left_low</td>\n",
       "      <td>no</td>\n",
       "    </tr>\n",
       "    <tr>\n",
       "      <th>286</th>\n",
       "      <td>50-59</td>\n",
       "      <td>ge40</td>\n",
       "      <td>40 to 44</td>\n",
       "      <td>0 to 2</td>\n",
       "      <td>no</td>\n",
       "      <td>three</td>\n",
       "      <td>left</td>\n",
       "      <td>right_up</td>\n",
       "      <td>no</td>\n",
       "    </tr>\n",
       "  </tbody>\n",
       "</table>\n",
       "<p>286 rows × 9 columns</p>\n",
       "</div>"
      ]
     },
     "execution_count": 39,
     "metadata": {},
     "output_type": "execute_result"
    }
   ],
   "execution_count": 39
  },
  {
   "metadata": {
    "ExecuteTime": {
     "end_time": "2025-10-28T10:34:41.984296Z",
     "start_time": "2025-10-28T10:34:41.950487Z"
    }
   },
   "cell_type": "code",
   "source": [
    "ohe=OneHotEncoder(drop=\"first\",sparse_output=False).set_output(transform='pandas')\n",
    "X_train_ohe=ohe.fit_transform(X_train)\n",
    "X_test_ohe=ohe.transform(X_test)\n",
    "nb=BernoulliNB()\n",
    "nb.fit(X_train_ohe,y_train)\n",
    "y_pred=nb.predict(X_test_ohe)\n",
    "print(classification_report(y_test,y_pred))"
   ],
   "id": "61ad2b1ca8616747",
   "outputs": [
    {
     "name": "stdout",
     "output_type": "stream",
     "text": [
      "                      precision    recall  f1-score   support\n",
      "\n",
      "no-recurrence-events       0.79      0.83      0.81        41\n",
      "   recurrence-events       0.53      0.47      0.50        17\n",
      "\n",
      "            accuracy                           0.72        58\n",
      "           macro avg       0.66      0.65      0.65        58\n",
      "        weighted avg       0.72      0.72      0.72        58\n",
      "\n"
     ]
    }
   ],
   "execution_count": 40
  },
  {
   "metadata": {
    "ExecuteTime": {
     "end_time": "2025-10-28T10:34:42.027333Z",
     "start_time": "2025-10-28T10:34:41.992767Z"
    }
   },
   "cell_type": "code",
   "source": [
    "sonar=pd.read_csv(\"Sonar.csv\",index_col=0)\n",
    "y=sonar['Class']\n",
    "X=sonar.drop(\"Class\",axis=1)\n",
    "X_train,X_test,y_train,y_test=train_test_split(X,y,test_size=0.3,random_state=25,stratify=y)\n",
    "nb=GaussianNB()\n",
    "nb.fit(X_train,y_train)\n",
    "y_pred=nb.predict(X_test)\n",
    "print(classification_report(y_test,y_pred))"
   ],
   "id": "fca8e3c7e203a36b",
   "outputs": [
    {
     "name": "stdout",
     "output_type": "stream",
     "text": [
      "              precision    recall  f1-score   support\n",
      "\n",
      "           M       0.62      0.74      0.68        34\n",
      "           R       0.61      0.48      0.54        29\n",
      "\n",
      "    accuracy                           0.62        63\n",
      "   macro avg       0.62      0.61      0.61        63\n",
      "weighted avg       0.62      0.62      0.61        63\n",
      "\n"
     ]
    }
   ],
   "execution_count": 41
  },
  {
   "metadata": {
    "ExecuteTime": {
     "end_time": "2025-10-28T10:52:40.711917Z",
     "start_time": "2025-10-28T10:52:40.473044Z"
    }
   },
   "cell_type": "code",
   "source": [
    "from sklearn.pipeline import Pipeline\n",
    "from sklearn.preprocessing import StandardScaler\n",
    "from sklearn.preprocessing import MinMaxScaler\n",
    "from sklearn.preprocessing import OneHotEncoder\n",
    "from sklearn.metrics import classification_report\n",
    "hr=pd.read_csv(\"HR_comma_sep.csv\")\n",
    "X=hr.drop('left',axis=1)\n",
    "y=hr['left']\n",
    "ohe=OneHotEncoder(drop='first',sparse_output=False).set_output(transform='pandas')\n",
    "scaler=MinMaxScaler()\n",
    "X_train,X_test,y_train,y_test=train_test_split(X,y,test_size=0.3,random_state=25,stratify=y)\n",
    "gnb=GaussianNB()\n",
    "pipe=Pipeline([('ohe',ohe),('gnb',gnb)])\n",
    "pipe.fit(X_train,y_train)\n",
    "y_pred=pipe.predict(X_test)\n",
    "print(classification_report(y_test,y_pred))"
   ],
   "id": "387ca70ee2d38d6",
   "outputs": [
    {
     "name": "stdout",
     "output_type": "stream",
     "text": [
      "              precision    recall  f1-score   support\n",
      "\n",
      "           0       0.99      0.68      0.80      3429\n",
      "           1       0.48      0.97      0.64      1070\n",
      "\n",
      "    accuracy                           0.75      4499\n",
      "   macro avg       0.73      0.82      0.72      4499\n",
      "weighted avg       0.87      0.75      0.76      4499\n",
      "\n"
     ]
    }
   ],
   "execution_count": 46
  },
  {
   "metadata": {},
   "cell_type": "code",
   "outputs": [],
   "execution_count": null,
   "source": "",
   "id": "4d0325940fb14b0b"
  }
 ],
 "metadata": {
  "kernelspec": {
   "display_name": "Python 3",
   "language": "python",
   "name": "python3"
  },
  "language_info": {
   "codemirror_mode": {
    "name": "ipython",
    "version": 2
   },
   "file_extension": ".py",
   "mimetype": "text/x-python",
   "name": "python",
   "nbconvert_exporter": "python",
   "pygments_lexer": "ipython2",
   "version": "2.7.6"
  }
 },
 "nbformat": 4,
 "nbformat_minor": 5
}
