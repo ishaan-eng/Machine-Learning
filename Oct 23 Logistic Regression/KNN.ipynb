{
 "cells": [
  {
   "cell_type": "code",
   "id": "initial_id",
   "metadata": {
    "collapsed": true,
    "ExecuteTime": {
     "end_time": "2025-10-23T10:17:35.061563Z",
     "start_time": "2025-10-23T10:17:34.157041Z"
    }
   },
   "source": [
    "import pandas as pd\n",
    "import numpy as np\n",
    "import matplotlib.pyplot as plt\n",
    "from sklearn.metrics import accuracy_score\n",
    "from sklearn.model_selection import train_test_split\n",
    "from sklearn.neighbors import KNeighborsClassifier"
   ],
   "outputs": [],
   "execution_count": 8
  },
  {
   "metadata": {
    "ExecuteTime": {
     "end_time": "2025-10-23T10:17:50.268320Z",
     "start_time": "2025-10-23T10:17:50.255742Z"
    }
   },
   "cell_type": "code",
   "source": [
    "winconson=pd.read_csv(\"BreastCancer.csv\")\n",
    "x=winconson.drop('Class',axis=1)\n",
    "y=winconson['Class']\n",
    "X_train,X_test,y_train,y_test=train_test_split(x,y,test_size=0.3,random_state=25,stratify=y)\n"
   ],
   "id": "f46d58eddd533db",
   "outputs": [],
   "execution_count": 11
  },
  {
   "metadata": {
    "ExecuteTime": {
     "end_time": "2025-10-23T10:20:52.365230Z",
     "start_time": "2025-10-23T10:20:52.349627Z"
    }
   },
   "cell_type": "code",
   "source": [
    "knn=KNeighborsClassifier(n_neighbors=1)\n",
    "knn.fit(X_train,y_train)\n",
    "y_pred=knn.predict(X_test)\n",
    "accuracy_score(y_test,y_pred)"
   ],
   "id": "a4519b9c6e3d9d81",
   "outputs": [
    {
     "data": {
      "text/plain": [
       "0.6"
      ]
     },
     "execution_count": 23,
     "metadata": {},
     "output_type": "execute_result"
    }
   ],
   "execution_count": 23
  },
  {
   "metadata": {
    "ExecuteTime": {
     "end_time": "2025-10-23T10:20:58.348460Z",
     "start_time": "2025-10-23T10:20:58.331847Z"
    }
   },
   "cell_type": "code",
   "source": [
    "knn=KNeighborsClassifier(n_neighbors=2)\n",
    "knn.fit(X_train,y_train)\n",
    "y_pred=knn.predict(X_test)\n",
    "accuracy_score(y_test,y_pred)"
   ],
   "id": "8baf0d711316248e",
   "outputs": [
    {
     "data": {
      "text/plain": [
       "0.6476190476190476"
      ]
     },
     "execution_count": 24,
     "metadata": {},
     "output_type": "execute_result"
    }
   ],
   "execution_count": 24
  },
  {
   "metadata": {
    "ExecuteTime": {
     "end_time": "2025-10-23T10:21:05.175678Z",
     "start_time": "2025-10-23T10:21:05.159410Z"
    }
   },
   "cell_type": "code",
   "source": [
    "knn=KNeighborsClassifier(n_neighbors=3)\n",
    "knn.fit(X_train,y_train)\n",
    "y_pred=knn.predict(X_test)\n",
    "accuracy_score(y_test,y_pred)"
   ],
   "id": "2f7b1c7243b0df4b",
   "outputs": [
    {
     "data": {
      "text/plain": [
       "0.5761904761904761"
      ]
     },
     "execution_count": 25,
     "metadata": {},
     "output_type": "execute_result"
    }
   ],
   "execution_count": 25
  },
  {
   "metadata": {
    "ExecuteTime": {
     "end_time": "2025-10-23T10:21:09.481005Z",
     "start_time": "2025-10-23T10:21:09.463779Z"
    }
   },
   "cell_type": "code",
   "source": [
    "knn=KNeighborsClassifier(n_neighbors=4)\n",
    "knn.fit(X_train,y_train)\n",
    "y_pred=knn.predict(X_test)\n",
    "accuracy_score(y_test,y_pred)"
   ],
   "id": "904330671808c8bd",
   "outputs": [
    {
     "data": {
      "text/plain": [
       "0.6523809523809524"
      ]
     },
     "execution_count": 26,
     "metadata": {},
     "output_type": "execute_result"
    }
   ],
   "execution_count": 26
  },
  {
   "metadata": {
    "ExecuteTime": {
     "end_time": "2025-10-23T10:21:13.786882Z",
     "start_time": "2025-10-23T10:21:13.770800Z"
    }
   },
   "cell_type": "code",
   "source": [
    "knn=KNeighborsClassifier(n_neighbors=5)\n",
    "knn.fit(X_train,y_train)\n",
    "y_pred=knn.predict(X_test)\n",
    "accuracy_score(y_test,y_pred)"
   ],
   "id": "ad3c20d19171174f",
   "outputs": [
    {
     "data": {
      "text/plain": [
       "0.5714285714285714"
      ]
     },
     "execution_count": 27,
     "metadata": {},
     "output_type": "execute_result"
    }
   ],
   "execution_count": 27
  },
  {
   "metadata": {
    "ExecuteTime": {
     "end_time": "2025-10-23T10:21:17.785201Z",
     "start_time": "2025-10-23T10:21:17.769126Z"
    }
   },
   "cell_type": "code",
   "source": [
    "knn=KNeighborsClassifier(n_neighbors=6)\n",
    "knn.fit(X_train,y_train)\n",
    "y_pred=knn.predict(X_test)\n",
    "accuracy_score(y_test,y_pred)"
   ],
   "id": "43f7d4ca424b0b88",
   "outputs": [
    {
     "data": {
      "text/plain": [
       "0.6476190476190476"
      ]
     },
     "execution_count": 28,
     "metadata": {},
     "output_type": "execute_result"
    }
   ],
   "execution_count": 28
  },
  {
   "metadata": {
    "ExecuteTime": {
     "end_time": "2025-10-23T10:21:23.658560Z",
     "start_time": "2025-10-23T10:21:23.642317Z"
    }
   },
   "cell_type": "code",
   "source": [
    "knn=KNeighborsClassifier(n_neighbors=7)\n",
    "knn.fit(X_train,y_train)\n",
    "y_pred=knn.predict(X_test)\n",
    "accuracy_score(y_test,y_pred)"
   ],
   "id": "c4954270ff60b70b",
   "outputs": [
    {
     "data": {
      "text/plain": [
       "0.6142857142857143"
      ]
     },
     "execution_count": 29,
     "metadata": {},
     "output_type": "execute_result"
    }
   ],
   "execution_count": 29
  },
  {
   "metadata": {
    "ExecuteTime": {
     "end_time": "2025-10-23T10:21:29.844028Z",
     "start_time": "2025-10-23T10:21:29.815840Z"
    }
   },
   "cell_type": "code",
   "source": [
    "knn=KNeighborsClassifier(n_neighbors=8)\n",
    "knn.fit(X_train,y_train)\n",
    "y_pred=knn.predict(X_test)\n",
    "accuracy_score(y_test,y_pred)"
   ],
   "id": "15d5156bd31f1089",
   "outputs": [
    {
     "data": {
      "text/plain": [
       "0.6666666666666666"
      ]
     },
     "execution_count": 30,
     "metadata": {},
     "output_type": "execute_result"
    }
   ],
   "execution_count": 30
  },
  {
   "metadata": {
    "ExecuteTime": {
     "end_time": "2025-10-23T10:21:34.406837Z",
     "start_time": "2025-10-23T10:21:34.390715Z"
    }
   },
   "cell_type": "code",
   "source": [
    "knn=KNeighborsClassifier(n_neighbors=9)\n",
    "knn.fit(X_train,y_train)\n",
    "y_pred=knn.predict(X_test)\n",
    "accuracy_score(y_test,y_pred)"
   ],
   "id": "75e27fc1be2033ad",
   "outputs": [
    {
     "data": {
      "text/plain": [
       "0.6761904761904762"
      ]
     },
     "execution_count": 31,
     "metadata": {},
     "output_type": "execute_result"
    }
   ],
   "execution_count": 31
  },
  {
   "metadata": {
    "ExecuteTime": {
     "end_time": "2025-10-23T10:21:39.443037Z",
     "start_time": "2025-10-23T10:21:39.426642Z"
    }
   },
   "cell_type": "code",
   "source": [
    "knn=KNeighborsClassifier(n_neighbors=10)\n",
    "knn.fit(X_train,y_train)\n",
    "y_pred=knn.predict(X_test)\n",
    "accuracy_score(y_test,y_pred)"
   ],
   "id": "2a47fef7c44ba0d1",
   "outputs": [
    {
     "data": {
      "text/plain": [
       "0.680952380952381"
      ]
     },
     "execution_count": 32,
     "metadata": {},
     "output_type": "execute_result"
    }
   ],
   "execution_count": 32
  },
  {
   "metadata": {
    "ExecuteTime": {
     "end_time": "2025-10-23T10:28:12.988249Z",
     "start_time": "2025-10-23T10:28:12.888980Z"
    }
   },
   "cell_type": "code",
   "source": [
    "ks=[1,2,3,4,5,6,7,8,9,10]\n",
    "scores=[]\n",
    "for k in ks:\n",
    "     knn=KNeighborsClassifier(n_neighbors=k)\n",
    "     knn.fit(X_train,y_train)\n",
    "     y_pred=knn.predict(X_test)\n",
    "     scores.append([k,accuracy_score(y_test,y_pred)])\n",
    "df_scores=pd.DataFrame(scores,columns=['k','acc_score'])\n",
    "df_scores.sort_values('acc_score',ascending=False)"
   ],
   "id": "a73facf3f7a2ff25",
   "outputs": [
    {
     "data": {
      "text/plain": [
       "    k  acc_score\n",
       "9  10   0.680952\n",
       "8   9   0.676190\n",
       "7   8   0.666667\n",
       "3   4   0.652381\n",
       "5   6   0.647619\n",
       "1   2   0.647619\n",
       "6   7   0.614286\n",
       "0   1   0.600000\n",
       "2   3   0.576190\n",
       "4   5   0.571429"
      ],
      "text/html": [
       "<div>\n",
       "<style scoped>\n",
       "    .dataframe tbody tr th:only-of-type {\n",
       "        vertical-align: middle;\n",
       "    }\n",
       "\n",
       "    .dataframe tbody tr th {\n",
       "        vertical-align: top;\n",
       "    }\n",
       "\n",
       "    .dataframe thead th {\n",
       "        text-align: right;\n",
       "    }\n",
       "</style>\n",
       "<table border=\"1\" class=\"dataframe\">\n",
       "  <thead>\n",
       "    <tr style=\"text-align: right;\">\n",
       "      <th></th>\n",
       "      <th>k</th>\n",
       "      <th>acc_score</th>\n",
       "    </tr>\n",
       "  </thead>\n",
       "  <tbody>\n",
       "    <tr>\n",
       "      <th>9</th>\n",
       "      <td>10</td>\n",
       "      <td>0.680952</td>\n",
       "    </tr>\n",
       "    <tr>\n",
       "      <th>8</th>\n",
       "      <td>9</td>\n",
       "      <td>0.676190</td>\n",
       "    </tr>\n",
       "    <tr>\n",
       "      <th>7</th>\n",
       "      <td>8</td>\n",
       "      <td>0.666667</td>\n",
       "    </tr>\n",
       "    <tr>\n",
       "      <th>3</th>\n",
       "      <td>4</td>\n",
       "      <td>0.652381</td>\n",
       "    </tr>\n",
       "    <tr>\n",
       "      <th>5</th>\n",
       "      <td>6</td>\n",
       "      <td>0.647619</td>\n",
       "    </tr>\n",
       "    <tr>\n",
       "      <th>1</th>\n",
       "      <td>2</td>\n",
       "      <td>0.647619</td>\n",
       "    </tr>\n",
       "    <tr>\n",
       "      <th>6</th>\n",
       "      <td>7</td>\n",
       "      <td>0.614286</td>\n",
       "    </tr>\n",
       "    <tr>\n",
       "      <th>0</th>\n",
       "      <td>1</td>\n",
       "      <td>0.600000</td>\n",
       "    </tr>\n",
       "    <tr>\n",
       "      <th>2</th>\n",
       "      <td>3</td>\n",
       "      <td>0.576190</td>\n",
       "    </tr>\n",
       "    <tr>\n",
       "      <th>4</th>\n",
       "      <td>5</td>\n",
       "      <td>0.571429</td>\n",
       "    </tr>\n",
       "  </tbody>\n",
       "</table>\n",
       "</div>"
      ]
     },
     "execution_count": 34,
     "metadata": {},
     "output_type": "execute_result"
    }
   ],
   "execution_count": 34
  },
  {
   "metadata": {
    "ExecuteTime": {
     "end_time": "2025-10-23T10:43:00.982470Z",
     "start_time": "2025-10-23T10:43:00.939070Z"
    }
   },
   "cell_type": "code",
   "source": [
    "hr=pd.read_csv(\"HR_comma_sep.csv\")\n",
    "dum_hr=pd.get_dummies(hr,drop_first=True)\n",
    "x=dum_hr.drop('left',axis=1)\n",
    "y=dum_hr['left']\n",
    "X_train,X_test,y_train,y_test=train_test_split(x,y,test_size=0.3,random_state=25,stratify=y)"
   ],
   "id": "6b00eb26492d2e65",
   "outputs": [],
   "execution_count": 35
  },
  {
   "metadata": {
    "ExecuteTime": {
     "end_time": "2025-10-23T10:43:15.064026Z",
     "start_time": "2025-10-23T10:43:10.063036Z"
    }
   },
   "cell_type": "code",
   "source": [
    "ks=[1,2,3,4,5,6,7,8,9,10]\n",
    "scores=[]\n",
    "for k in ks:\n",
    "     knn=KNeighborsClassifier(n_neighbors=k)\n",
    "     knn.fit(X_train,y_train)\n",
    "     y_pred=knn.predict(X_test)\n",
    "     scores.append([k,accuracy_score(y_test,y_pred)])\n",
    "df_scores=pd.DataFrame(scores,columns=['k','acc_score'])\n",
    "df_scores.sort_values('acc_score',ascending=False)"
   ],
   "id": "ebf2de9256529716",
   "outputs": [
    {
     "data": {
      "text/plain": [
       "    k  acc_score\n",
       "0   1   0.951100\n",
       "1   2   0.946655\n",
       "5   6   0.942654\n",
       "7   8   0.942209\n",
       "3   4   0.941543\n",
       "9  10   0.941320\n",
       "8   9   0.939542\n",
       "6   7   0.937986\n",
       "2   3   0.937542\n",
       "4   5   0.937319"
      ],
      "text/html": [
       "<div>\n",
       "<style scoped>\n",
       "    .dataframe tbody tr th:only-of-type {\n",
       "        vertical-align: middle;\n",
       "    }\n",
       "\n",
       "    .dataframe tbody tr th {\n",
       "        vertical-align: top;\n",
       "    }\n",
       "\n",
       "    .dataframe thead th {\n",
       "        text-align: right;\n",
       "    }\n",
       "</style>\n",
       "<table border=\"1\" class=\"dataframe\">\n",
       "  <thead>\n",
       "    <tr style=\"text-align: right;\">\n",
       "      <th></th>\n",
       "      <th>k</th>\n",
       "      <th>acc_score</th>\n",
       "    </tr>\n",
       "  </thead>\n",
       "  <tbody>\n",
       "    <tr>\n",
       "      <th>0</th>\n",
       "      <td>1</td>\n",
       "      <td>0.951100</td>\n",
       "    </tr>\n",
       "    <tr>\n",
       "      <th>1</th>\n",
       "      <td>2</td>\n",
       "      <td>0.946655</td>\n",
       "    </tr>\n",
       "    <tr>\n",
       "      <th>5</th>\n",
       "      <td>6</td>\n",
       "      <td>0.942654</td>\n",
       "    </tr>\n",
       "    <tr>\n",
       "      <th>7</th>\n",
       "      <td>8</td>\n",
       "      <td>0.942209</td>\n",
       "    </tr>\n",
       "    <tr>\n",
       "      <th>3</th>\n",
       "      <td>4</td>\n",
       "      <td>0.941543</td>\n",
       "    </tr>\n",
       "    <tr>\n",
       "      <th>9</th>\n",
       "      <td>10</td>\n",
       "      <td>0.941320</td>\n",
       "    </tr>\n",
       "    <tr>\n",
       "      <th>8</th>\n",
       "      <td>9</td>\n",
       "      <td>0.939542</td>\n",
       "    </tr>\n",
       "    <tr>\n",
       "      <th>6</th>\n",
       "      <td>7</td>\n",
       "      <td>0.937986</td>\n",
       "    </tr>\n",
       "    <tr>\n",
       "      <th>2</th>\n",
       "      <td>3</td>\n",
       "      <td>0.937542</td>\n",
       "    </tr>\n",
       "    <tr>\n",
       "      <th>4</th>\n",
       "      <td>5</td>\n",
       "      <td>0.937319</td>\n",
       "    </tr>\n",
       "  </tbody>\n",
       "</table>\n",
       "</div>"
      ]
     },
     "execution_count": 36,
     "metadata": {},
     "output_type": "execute_result"
    }
   ],
   "execution_count": 36
  },
  {
   "metadata": {
    "ExecuteTime": {
     "end_time": "2025-10-23T10:50:43.344555Z",
     "start_time": "2025-10-23T10:50:43.146243Z"
    }
   },
   "cell_type": "code",
   "source": [
    "from sklearn.preprocessing import StandardScaler\n",
    "\n",
    "scaler=StandardScaler()\n",
    "x_trn_scl=scaler.fit_transform(X_train)\n",
    "x_tst_scl=scaler.transform(X_test)\n",
    "knn=KNeighborsClassifier(n_neighbors=1)\n",
    "knn.fit(x_trn_scl,y_train)\n",
    "y_pred=knn.predict(x_tst_scl)\n",
    "accuracy_score(y_test,y_pred)"
   ],
   "id": "3935f5d1b594065",
   "outputs": [
    {
     "data": {
      "text/plain": [
       "0.9666592576128028"
      ]
     },
     "execution_count": 37,
     "metadata": {},
     "output_type": "execute_result"
    }
   ],
   "execution_count": 37
  },
  {
   "metadata": {
    "ExecuteTime": {
     "end_time": "2025-10-23T10:53:38.810466Z",
     "start_time": "2025-10-23T10:53:37.440347Z"
    }
   },
   "cell_type": "code",
   "source": [
    "ks=[1,2,3,4,5,6,7,8,9,10]\n",
    "scores=[]\n",
    "for k in ks:\n",
    "     knn=KNeighborsClassifier(n_neighbors=k)\n",
    "     knn.fit(x_trn_scl,y_train)\n",
    "     y_pred=knn.predict(x_tst_scl)\n",
    "     scores.append([k,accuracy_score(y_test,y_pred)])\n",
    "df_scores=pd.DataFrame(scores,columns=['k','acc_score'])\n",
    "df_scores.sort_values('acc_score',ascending=False)"
   ],
   "id": "78bdd611f3c8ef31",
   "outputs": [
    {
     "data": {
      "text/plain": [
       "    k  acc_score\n",
       "0   1   0.966659\n",
       "1   2   0.963325\n",
       "2   3   0.950656\n",
       "3   4   0.948433\n",
       "5   6   0.946210\n",
       "7   8   0.944210\n",
       "6   7   0.942209\n",
       "9  10   0.941543\n",
       "8   9   0.940876\n",
       "4   5   0.940209"
      ],
      "text/html": [
       "<div>\n",
       "<style scoped>\n",
       "    .dataframe tbody tr th:only-of-type {\n",
       "        vertical-align: middle;\n",
       "    }\n",
       "\n",
       "    .dataframe tbody tr th {\n",
       "        vertical-align: top;\n",
       "    }\n",
       "\n",
       "    .dataframe thead th {\n",
       "        text-align: right;\n",
       "    }\n",
       "</style>\n",
       "<table border=\"1\" class=\"dataframe\">\n",
       "  <thead>\n",
       "    <tr style=\"text-align: right;\">\n",
       "      <th></th>\n",
       "      <th>k</th>\n",
       "      <th>acc_score</th>\n",
       "    </tr>\n",
       "  </thead>\n",
       "  <tbody>\n",
       "    <tr>\n",
       "      <th>0</th>\n",
       "      <td>1</td>\n",
       "      <td>0.966659</td>\n",
       "    </tr>\n",
       "    <tr>\n",
       "      <th>1</th>\n",
       "      <td>2</td>\n",
       "      <td>0.963325</td>\n",
       "    </tr>\n",
       "    <tr>\n",
       "      <th>2</th>\n",
       "      <td>3</td>\n",
       "      <td>0.950656</td>\n",
       "    </tr>\n",
       "    <tr>\n",
       "      <th>3</th>\n",
       "      <td>4</td>\n",
       "      <td>0.948433</td>\n",
       "    </tr>\n",
       "    <tr>\n",
       "      <th>5</th>\n",
       "      <td>6</td>\n",
       "      <td>0.946210</td>\n",
       "    </tr>\n",
       "    <tr>\n",
       "      <th>7</th>\n",
       "      <td>8</td>\n",
       "      <td>0.944210</td>\n",
       "    </tr>\n",
       "    <tr>\n",
       "      <th>6</th>\n",
       "      <td>7</td>\n",
       "      <td>0.942209</td>\n",
       "    </tr>\n",
       "    <tr>\n",
       "      <th>9</th>\n",
       "      <td>10</td>\n",
       "      <td>0.941543</td>\n",
       "    </tr>\n",
       "    <tr>\n",
       "      <th>8</th>\n",
       "      <td>9</td>\n",
       "      <td>0.940876</td>\n",
       "    </tr>\n",
       "    <tr>\n",
       "      <th>4</th>\n",
       "      <td>5</td>\n",
       "      <td>0.940209</td>\n",
       "    </tr>\n",
       "  </tbody>\n",
       "</table>\n",
       "</div>"
      ]
     },
     "execution_count": 38,
     "metadata": {},
     "output_type": "execute_result"
    }
   ],
   "execution_count": 38
  },
  {
   "metadata": {},
   "cell_type": "code",
   "outputs": [],
   "execution_count": null,
   "source": "",
   "id": "ad85da266cc3a89d"
  }
 ],
 "metadata": {
  "kernelspec": {
   "display_name": "Python 3",
   "language": "python",
   "name": "python3"
  },
  "language_info": {
   "codemirror_mode": {
    "name": "ipython",
    "version": 2
   },
   "file_extension": ".py",
   "mimetype": "text/x-python",
   "name": "python",
   "nbconvert_exporter": "python",
   "pygments_lexer": "ipython2",
   "version": "2.7.6"
  }
 },
 "nbformat": 4,
 "nbformat_minor": 5
}
