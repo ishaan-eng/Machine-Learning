{
 "cells": [
  {
   "cell_type": "code",
   "id": "initial_id",
   "metadata": {
    "collapsed": true,
    "ExecuteTime": {
     "end_time": "2025-10-31T09:57:30.241450Z",
     "start_time": "2025-10-31T09:57:29.535338Z"
    }
   },
   "source": [
    "import pandas as pd\n",
    "import numpy as np\n",
    "from narwhals.selectors import categorical\n",
    "from sklearn.linear_model import ElasticNet, LinearRegression, LogisticRegression\n",
    "from sklearn.model_selection import train_test_split\n",
    "from sklearn.compose import make_column_selector, make_column_transformer, ColumnTransformer\n",
    "from sklearn.metrics import classification_report, mean_absolute_error, r2_score, f1_score, accuracy_score,log_loss\n",
    "from sklearn.discriminant_analysis import LinearDiscriminantAnalysis,QuadraticDiscriminantAnalysis\n",
    "from sklearn.naive_bayes import GaussianNB\n",
    "from sklearn.preprocessing import StandardScaler, MinMaxScaler, LabelEncoder, OneHotEncoder\n",
    "from sklearn.svm import SVC\n",
    "from sklearn.neighbors import KNeighborsClassifier, KNeighborsRegressor\n",
    "from sklearn.ensemble import VotingClassifier, VotingRegressor, BaggingClassifier, BaggingRegressor, \\\n",
    "    RandomForestClassifier, AdaBoostClassifier, AdaBoostRegressor,GradientBoostingClassifier,StackingClassifier\n",
    "from sklearn.tree import DecisionTreeClassifier, DecisionTreeRegressor\n",
    "from tqdm import tqdm\n",
    "from win32cryptcon import X509_KEY_USAGE_RESTRICTION\n",
    "from xgboost import XGBClassifier\n",
    "from lightgbm import LGBMClassifier"
   ],
   "outputs": [],
   "execution_count": 1
  },
  {
   "metadata": {
    "ExecuteTime": {
     "end_time": "2025-10-31T10:09:25.111775Z",
     "start_time": "2025-10-31T10:09:25.095568Z"
    }
   },
   "cell_type": "code",
   "source": [
    "sonar=pd.read_csv(\"Sonar.csv\")\n",
    "y=sonar[\"Class\"]\n",
    "X=sonar.drop(\"Class\",axis=1)\n",
    "le=LabelEncoder()\n",
    "y=le.fit_transform(y)\n",
    "X_train,X_test,y_train,y_test=train_test_split(X,y,test_size=0.3,random_state=25,stratify=y)\n"
   ],
   "id": "fe98b4a7331024f2",
   "outputs": [],
   "execution_count": 14
  },
  {
   "metadata": {
    "ExecuteTime": {
     "end_time": "2025-10-31T10:09:26.753592Z",
     "start_time": "2025-10-31T10:09:26.745635Z"
    }
   },
   "cell_type": "code",
   "source": "y_train",
   "id": "7782465dbadbae76",
   "outputs": [
    {
     "data": {
      "text/plain": [
       "array([0, 0, 1, 1, 1, 1, 0, 0, 0, 1, 1, 1, 0, 1, 0, 1, 0, 1, 0, 0, 1, 1,\n",
       "       0, 0, 1, 0, 0, 0, 0, 0, 0, 0, 1, 1, 1, 0, 1, 1, 0, 0, 0, 0, 1, 1,\n",
       "       0, 1, 0, 1, 0, 1, 0, 1, 0, 0, 0, 1, 1, 0, 0, 0, 0, 0, 0, 0, 0, 0,\n",
       "       1, 1, 1, 1, 0, 1, 1, 0, 0, 0, 0, 0, 1, 1, 1, 1, 1, 1, 1, 1, 1, 0,\n",
       "       1, 1, 1, 0, 1, 1, 1, 0, 0, 0, 1, 1, 1, 1, 1, 1, 1, 1, 1, 1, 1, 1,\n",
       "       0, 0, 0, 0, 1, 0, 0, 1, 1, 0, 1, 0, 1, 0, 0, 0, 1, 0, 0, 0, 0, 0,\n",
       "       0, 0, 0, 1, 0, 0, 1, 0, 0, 0, 1, 0, 0])"
      ]
     },
     "execution_count": 15,
     "metadata": {},
     "output_type": "execute_result"
    }
   ],
   "execution_count": 15
  },
  {
   "metadata": {
    "ExecuteTime": {
     "end_time": "2025-10-31T10:09:28.835228Z",
     "start_time": "2025-10-31T10:09:28.530644Z"
    }
   },
   "cell_type": "code",
   "source": [
    "dtc=DecisionTreeClassifier(random_state=25)\n",
    "knn=KNeighborsClassifier()\n",
    "nb=GaussianNB()\n",
    "gbm=GradientBoostingClassifier(random_state=25)\n",
    "stack=StackingClassifier([(\"Tree\",dtc),(\"knn\",knn),(\"NB\",nb)],final_estimator=gbm)\n",
    "stack.fit(X_train,y_train)\n",
    "y_pred=stack.predict_proba(X_test)\n",
    "print(log_loss(y_test,y_pred))"
   ],
   "id": "2447b0d1a3a55582",
   "outputs": [
    {
     "name": "stdout",
     "output_type": "stream",
     "text": [
      "0.7762553975042448\n"
     ]
    }
   ],
   "execution_count": 16
  },
  {
   "metadata": {
    "ExecuteTime": {
     "end_time": "2025-10-31T10:09:33.048177Z",
     "start_time": "2025-10-31T10:09:32.376288Z"
    }
   },
   "cell_type": "code",
   "source": [
    "dtc=DecisionTreeClassifier(random_state=25)\n",
    "knn=KNeighborsClassifier()\n",
    "nb=GaussianNB()\n",
    "gbm=GradientBoostingClassifier(random_state=25)\n",
    "stack=StackingClassifier([(\"Tree\",dtc),(\"knn\",knn),(\"NB\",nb)],final_estimator=gbm,passthrough=True)\n",
    "stack.fit(X_train,y_train)\n",
    "y_pred=stack.predict_proba(X_test)\n",
    "print(log_loss(y_test,y_pred))"
   ],
   "id": "96a6a06e6d1160ce",
   "outputs": [
    {
     "name": "stdout",
     "output_type": "stream",
     "text": [
      "0.4828436006761138\n"
     ]
    }
   ],
   "execution_count": 17
  },
  {
   "metadata": {},
   "cell_type": "code",
   "outputs": [],
   "execution_count": null,
   "source": "",
   "id": "fc1cdefb8fa6dccb"
  }
 ],
 "metadata": {
  "kernelspec": {
   "display_name": "Python 3",
   "language": "python",
   "name": "python3"
  },
  "language_info": {
   "codemirror_mode": {
    "name": "ipython",
    "version": 2
   },
   "file_extension": ".py",
   "mimetype": "text/x-python",
   "name": "python",
   "nbconvert_exporter": "python",
   "pygments_lexer": "ipython2",
   "version": "2.7.6"
  }
 },
 "nbformat": 4,
 "nbformat_minor": 5
}
