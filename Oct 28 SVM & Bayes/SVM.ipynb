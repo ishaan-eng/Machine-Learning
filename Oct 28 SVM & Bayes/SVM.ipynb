{
 "cells": [
  {
   "cell_type": "code",
   "id": "initial_id",
   "metadata": {
    "collapsed": true,
    "ExecuteTime": {
     "end_time": "2025-10-28T07:13:03.830274Z",
     "start_time": "2025-10-28T07:13:03.168966Z"
    }
   },
   "source": [
    "import pandas as pd\n",
    "import numpy as np\n",
    "from sklearn.model_selection import train_test_split\n",
    "from sklearn.compose import make_column_selector,make_column_transformer\n",
    "from sklearn.metrics import classification_report,mean_absolute_error,r2_score,f1_score\n",
    "from sklearn.preprocessing import StandardScaler, MinMaxScaler, OneHotEncoder\n",
    "from sklearn.svm import SVC\n",
    "from sklearn.preprocessing import StandardScaler,OneHotEncoder\n",
    "kyph=pd.read_csv(\"Kyphosis.csv\")\n",
    "y=kyph['Kyphosis']\n",
    "X=kyph.drop('Kyphosis',axis=1)\n",
    "X_train,X_test,y_train,y_test=train_test_split(X,y,test_size=0.3,random_state=25,stratify=y)\n",
    "svm=SVC(kernel='linear',C=1)\n",
    "svm.fit(X_train,y_train)\n",
    "y_pred=svm.predict(X_test)\n",
    "print(classification_report(y_test,y_pred))\n",
    "print(f1_score(y_test,y_pred,pos_label='present'))"
   ],
   "outputs": [
    {
     "name": "stdout",
     "output_type": "stream",
     "text": [
      "              precision    recall  f1-score   support\n",
      "\n",
      "      absent       0.87      1.00      0.93        20\n",
      "     present       1.00      0.40      0.57         5\n",
      "\n",
      "    accuracy                           0.88        25\n",
      "   macro avg       0.93      0.70      0.75        25\n",
      "weighted avg       0.90      0.88      0.86        25\n",
      "\n",
      "0.5714285714285714\n"
     ]
    }
   ],
   "execution_count": 2
  },
  {
   "metadata": {
    "ExecuteTime": {
     "end_time": "2025-10-28T04:19:01.077637Z",
     "start_time": "2025-10-28T04:19:00.699064Z"
    }
   },
   "cell_type": "code",
   "source": [
    "Cs=np.linspace(0.001,5,20)\n",
    "Scores=[]\n",
    "for C in Cs:\n",
    "    svm=SVC(kernel='linear',C=C)\n",
    "    svm.fit(X_train,y_train)\n",
    "    y_pred=svm.predict(X_test)\n",
    "    score=f1_score(y_test,y_pred,pos_label='present')\n",
    "    Scores.append([C,score])\n",
    "df_scores=pd.DataFrame(Scores,columns=['C','f1'])\n",
    "df_scores.sort_values('f1',ascending=False,inplace=True)\n",
    "print(df_scores)"
   ],
   "id": "2a4a6dab19901c52",
   "outputs": [
    {
     "name": "stdout",
     "output_type": "stream",
     "text": [
      "           C        f1\n",
      "1   0.264105  0.571429\n",
      "2   0.527211  0.571429\n",
      "3   0.790316  0.571429\n",
      "4   1.053421  0.571429\n",
      "12  3.158263  0.571429\n",
      "5   1.316526  0.571429\n",
      "6   1.579632  0.571429\n",
      "7   1.842737  0.571429\n",
      "8   2.105842  0.571429\n",
      "9   2.368947  0.571429\n",
      "10  2.632053  0.571429\n",
      "11  2.895158  0.571429\n",
      "16  4.210684  0.571429\n",
      "13  3.421368  0.571429\n",
      "14  3.684474  0.571429\n",
      "15  3.947579  0.571429\n",
      "18  4.736895  0.571429\n",
      "17  4.473789  0.571429\n",
      "19  5.000000  0.571429\n",
      "0   0.001000  0.000000\n"
     ]
    }
   ],
   "execution_count": 10
  },
  {
   "metadata": {
    "ExecuteTime": {
     "end_time": "2025-10-28T04:25:13.872278Z",
     "start_time": "2025-10-28T04:25:13.761879Z"
    }
   },
   "cell_type": "code",
   "source": [
    "Cs=np.linspace(0.001,5,20)\n",
    "scaler=StandardScaler()\n",
    "scaler.fit(X_train)\n",
    "X_train=scaler.transform(X_train)\n",
    "X_test=scaler.transform(X_test)\n",
    "\n",
    "Scores=[]\n",
    "for C in Cs:\n",
    "    svm=SVC(kernel='linear',C=C)\n",
    "    svm.fit(X_train,y_train)\n",
    "    y_pred=svm.predict(X_test)\n",
    "    score=f1_score(y_test,y_pred,pos_label='present')\n",
    "    Scores.append([C,score])\n",
    "df_scores=pd.DataFrame(Scores,columns=['C','f1'])\n",
    "df_scores.sort_values('f1',ascending=False,inplace=True)\n",
    "print(df_scores)"
   ],
   "id": "7bffadfb6810e433",
   "outputs": [
    {
     "name": "stdout",
     "output_type": "stream",
     "text": [
      "           C        f1\n",
      "3   0.790316  0.571429\n",
      "2   0.527211  0.571429\n",
      "5   1.316526  0.571429\n",
      "4   1.053421  0.571429\n",
      "12  3.158263  0.571429\n",
      "13  3.421368  0.571429\n",
      "6   1.579632  0.571429\n",
      "7   1.842737  0.571429\n",
      "8   2.105842  0.571429\n",
      "9   2.368947  0.571429\n",
      "10  2.632053  0.571429\n",
      "11  2.895158  0.571429\n",
      "16  4.210684  0.571429\n",
      "17  4.473789  0.571429\n",
      "14  3.684474  0.571429\n",
      "15  3.947579  0.571429\n",
      "18  4.736895  0.571429\n",
      "19  5.000000  0.571429\n",
      "0   0.001000  0.000000\n",
      "1   0.264105  0.000000\n"
     ]
    }
   ],
   "execution_count": 11
  },
  {
   "metadata": {
    "ExecuteTime": {
     "end_time": "2025-10-28T04:32:33.195472Z",
     "start_time": "2025-10-28T04:32:33.000465Z"
    }
   },
   "cell_type": "code",
   "source": [
    "#Breast Cancer\n",
    "bcancer=pd.read_csv(\"BreastCancer.csv\",index_col=0)\n",
    "X=bcancer.drop(\"Class\",axis=1)\n",
    "y=bcancer[\"Class\"]\n",
    "X_train,X_test,y_train,y_test=train_test_split(X,y,test_size=0.3,random_state=25,stratify=y)\n",
    "scaler=StandardScaler()\n",
    "scaler.fit(X_train)\n",
    "X_train=scaler.transform(X_train)\n",
    "X_test=scaler.transform(X_test)\n",
    "Scores=[]\n",
    "for C in Cs:\n",
    "    svm=SVC(kernel='linear',C=C)\n",
    "    svm.fit(X_train,y_train)\n",
    "    y_pred=svm.predict(X_test)\n",
    "    score=f1_score(y_test,y_pred,pos_label='Malignant')\n",
    "    Scores.append([C,score])\n",
    "df_scores=pd.DataFrame(Scores,columns=['C','f1'])\n",
    "df_scores.sort_values('f1',ascending=False,inplace=True)\n",
    "print(df_scores)\n",
    "\n"
   ],
   "id": "aca8df3db0cdddd8",
   "outputs": [
    {
     "name": "stdout",
     "output_type": "stream",
     "text": [
      "           C        f1\n",
      "7   1.842737  0.957746\n",
      "6   1.579632  0.957746\n",
      "5   1.316526  0.957746\n",
      "4   1.053421  0.957746\n",
      "12  3.158263  0.957746\n",
      "13  3.421368  0.957746\n",
      "14  3.684474  0.957746\n",
      "15  3.947579  0.957746\n",
      "8   2.105842  0.957746\n",
      "9   2.368947  0.957746\n",
      "10  2.632053  0.957746\n",
      "11  2.895158  0.957746\n",
      "16  4.210684  0.957746\n",
      "17  4.473789  0.957746\n",
      "18  4.736895  0.957746\n",
      "19  5.000000  0.957746\n",
      "2   0.527211  0.957143\n",
      "1   0.264105  0.957143\n",
      "3   0.790316  0.950355\n",
      "0   0.001000  0.918519\n"
     ]
    }
   ],
   "execution_count": 13
  },
  {
   "metadata": {
    "ExecuteTime": {
     "end_time": "2025-10-28T05:39:08.155324Z",
     "start_time": "2025-10-28T05:39:01.302475Z"
    }
   },
   "cell_type": "code",
   "source": [
    "Cs=np.linspace(0.001,5,20)\n",
    "Gs=np.linspace(0.001,5,20)\n",
    "Scores=[]\n",
    "for C in Cs:\n",
    "    for G in Gs:\n",
    "        svm=SVC(kernel='rbf',C=C,gamma=G)\n",
    "        svm.fit(X_train,y_train)\n",
    "        y_pred=svm.predict(X_test)\n",
    "        score=f1_score(y_test,y_pred,pos_label='Malignant')\n",
    "        Scores.append([C,score])\n",
    "df_scores=pd.DataFrame(Scores,columns=['C','f1'])\n",
    "df_scores.sort_values('f1',ascending=False,inplace=True)\n",
    "print(df_scores)\n"
   ],
   "id": "b070d2377ab521de",
   "outputs": [
    {
     "name": "stdout",
     "output_type": "stream",
     "text": [
      "            C        f1\n",
      "181  2.368947  0.972222\n",
      "201  2.632053  0.972222\n",
      "161  2.105842  0.972222\n",
      "141  1.842737  0.972222\n",
      "322  4.210684  0.965517\n",
      "..        ...       ...\n",
      "4    0.001000  0.000000\n",
      "0    0.001000  0.000000\n",
      "1    0.001000  0.000000\n",
      "2    0.001000  0.000000\n",
      "3    0.001000  0.000000\n",
      "\n",
      "[400 rows x 2 columns]\n"
     ]
    }
   ],
   "execution_count": 14
  },
  {
   "metadata": {
    "ExecuteTime": {
     "end_time": "2025-10-28T06:02:03.085733Z",
     "start_time": "2025-10-28T06:01:35.255894Z"
    }
   },
   "cell_type": "code",
   "source": [
    "Cs=np.linspace(0.001,5,20)\n",
    "Gs=np.linspace(0.001,5,20)\n",
    "Scores=[]\n",
    "for C in Cs:\n",
    "    for G in Gs:\n",
    "        svm=SVC(kernel='poly',C=C,gamma=G, degree=4)\n",
    "        svm.fit(X_train,y_train)\n",
    "        y_pred=svm.predict(X_test)\n",
    "        score=f1_score(y_test,y_pred,pos_label='Malignant')\n",
    "        Scores.append([C,score])\n",
    "df_scores=pd.DataFrame(Scores,columns=['C','f1'])\n",
    "df_scores.sort_values('f1',ascending=False,inplace=True)\n",
    "print(df_scores)"
   ],
   "id": "46877a6cd6a0d7bb",
   "outputs": [
    {
     "name": "stdout",
     "output_type": "stream",
     "text": [
      "            C        f1\n",
      "6    0.001000  0.910448\n",
      "121  1.579632  0.910448\n",
      "42   0.527211  0.910448\n",
      "161  2.105842  0.910448\n",
      "101  1.316526  0.910448\n",
      "..        ...       ...\n",
      "80   1.053421  0.000000\n",
      "60   0.790316  0.000000\n",
      "340  4.473789  0.000000\n",
      "360  4.736895  0.000000\n",
      "0    0.001000  0.000000\n",
      "\n",
      "[400 rows x 2 columns]\n"
     ]
    }
   ],
   "execution_count": 16
  },
  {
   "metadata": {
    "ExecuteTime": {
     "end_time": "2025-10-28T07:13:10.852843Z",
     "start_time": "2025-10-28T07:13:10.705560Z"
    }
   },
   "cell_type": "code",
   "source": [
    "from sklearn.metrics import accuracy_score\n",
    "\n",
    "glass=pd.read_csv(\"Glass.csv\")\n",
    "X=glass.drop(\"Type\",axis=1)\n",
    "y=glass[\"Type\"]\n",
    "Cs=np.linspace(0.001,5,20)\n",
    "X_train,X_test,y_train,y_test=train_test_split(X,y,test_size=0.3,random_state=25,stratify=y)\n",
    "\n",
    "Scores=[]\n",
    "for C in Cs:\n",
    "    svm=SVC(kernel='linear',C=C)\n",
    "    svm.fit(X_train,y_train)\n",
    "    y_pred=svm.predict(X_test)\n",
    "    accuracy=accuracy_score(y_test,y_pred)\n",
    "    Scores.append([C,accuracy])\n",
    "df_scores=pd.DataFrame(Scores,columns=['C','Accuracy'])\n",
    "df_scores.sort_values('Accuracy',ascending=False,inplace=True)\n",
    "print(df_scores)\n"
   ],
   "id": "894fe0c21612e8f2",
   "outputs": [
    {
     "name": "stdout",
     "output_type": "stream",
     "text": [
      "           C  Accuracy\n",
      "5   1.316526  0.661538\n",
      "7   1.842737  0.646154\n",
      "4   1.053421  0.646154\n",
      "6   1.579632  0.646154\n",
      "8   2.105842  0.646154\n",
      "18  4.736895  0.646154\n",
      "19  5.000000  0.646154\n",
      "13  3.421368  0.630769\n",
      "11  2.895158  0.630769\n",
      "10  2.632053  0.630769\n",
      "12  3.158263  0.630769\n",
      "9   2.368947  0.630769\n",
      "15  3.947579  0.630769\n",
      "14  3.684474  0.630769\n",
      "17  4.473789  0.630769\n",
      "16  4.210684  0.630769\n",
      "2   0.527211  0.615385\n",
      "3   0.790316  0.600000\n",
      "1   0.264105  0.584615\n",
      "0   0.001000  0.353846\n"
     ]
    }
   ],
   "execution_count": 3
  },
  {
   "metadata": {
    "ExecuteTime": {
     "end_time": "2025-10-28T07:13:15.498983Z",
     "start_time": "2025-10-28T07:13:13.027055Z"
    }
   },
   "cell_type": "code",
   "source": [
    "Gs=np.linspace(0.001,5,20)\n",
    "Scores=[]\n",
    "for C in Cs:\n",
    "    for G in Gs:\n",
    "        svm=SVC(kernel='rbf',C=C,gamma=G)\n",
    "        svm.fit(X_train,y_train)\n",
    "        y_pred=svm.predict(X_test)\n",
    "        accuracy=accuracy_score(y_test,y_pred)\n",
    "        Scores.append([C,accuracy])\n",
    "df_scores=pd.DataFrame(Scores,columns=['C','Accuracy'])\n",
    "df_scores.sort_values('Accuracy',ascending=False,inplace=True)\n",
    "print(df_scores)"
   ],
   "id": "e37a0ff7994dfb54",
   "outputs": [
    {
     "name": "stdout",
     "output_type": "stream",
     "text": [
      "            C  Accuracy\n",
      "361  4.736895  0.723077\n",
      "381  5.000000  0.723077\n",
      "301  3.947579  0.723077\n",
      "321  4.210684  0.723077\n",
      "281  3.684474  0.723077\n",
      "..        ...       ...\n",
      "4    0.001000  0.353846\n",
      "1    0.001000  0.353846\n",
      "2    0.001000  0.353846\n",
      "3    0.001000  0.353846\n",
      "0    0.001000  0.353846\n",
      "\n",
      "[400 rows x 2 columns]\n"
     ]
    }
   ],
   "execution_count": 4
  },
  {
   "metadata": {
    "jupyter": {
     "is_executing": true
    },
    "ExecuteTime": {
     "start_time": "2025-10-28T07:09:45.861835Z"
    }
   },
   "cell_type": "code",
   "source": [
    "# Scores=[]\n",
    "# for C in Cs:\n",
    "#     for G in Gs:\n",
    "#         svm=SVC(kernel='poly',C=C,gamma=G, degree=4)\n",
    "#         svm.fit(X_train,y_train)\n",
    "#         y_pred=svm.predict(X_test)\n",
    "#         accuracy=accuracy_score(y_test,y_pred)\n",
    "#         Scores.append([C,accuracy])\n",
    "# df_scores=pd.DataFrame(Scores,columns=['C','Accuracy'])\n",
    "# df_scores.sort_values('Accuracy',ascending=False,inplace=True)\n",
    "# print(df_scores)"
   ],
   "id": "177a160d5abe3a37",
   "outputs": [],
   "execution_count": null
  },
  {
   "metadata": {
    "ExecuteTime": {
     "end_time": "2025-10-28T07:13:18.882450Z",
     "start_time": "2025-10-28T07:13:18.634604Z"
    }
   },
   "cell_type": "code",
   "source": [
    "Scores=[]\n",
    "dfs=['ovo','ovr']\n",
    "for C in Cs:\n",
    "    for d in dfs:\n",
    "        svm=SVC(kernel='linear',C=C,decision_function_shape=d)\n",
    "        svm.fit(X_train,y_train)\n",
    "        y_pred=svm.predict(X_test)\n",
    "        accuracy=accuracy_score(y_test,y_pred)\n",
    "        Scores.append([C,d,accuracy])\n",
    "df_scores=pd.DataFrame(Scores,columns=['C','dfs','Accuracy'])\n",
    "df_scores.sort_values('Accuracy',ascending=False,inplace=True)\n",
    "print(df_scores)"
   ],
   "id": "6701f4822a6f53c6",
   "outputs": [
    {
     "name": "stdout",
     "output_type": "stream",
     "text": [
      "           C  dfs  Accuracy\n",
      "10  1.316526  ovo  0.661538\n",
      "11  1.316526  ovr  0.661538\n",
      "15  1.842737  ovr  0.646154\n",
      "14  1.842737  ovo  0.646154\n",
      "8   1.053421  ovo  0.646154\n",
      "9   1.053421  ovr  0.646154\n",
      "13  1.579632  ovr  0.646154\n",
      "12  1.579632  ovo  0.646154\n",
      "16  2.105842  ovo  0.646154\n",
      "17  2.105842  ovr  0.646154\n",
      "37  4.736895  ovr  0.646154\n",
      "36  4.736895  ovo  0.646154\n",
      "39  5.000000  ovr  0.646154\n",
      "38  5.000000  ovo  0.646154\n",
      "26  3.421368  ovo  0.630769\n",
      "27  3.421368  ovr  0.630769\n",
      "23  2.895158  ovr  0.630769\n",
      "22  2.895158  ovo  0.630769\n",
      "21  2.632053  ovr  0.630769\n",
      "20  2.632053  ovo  0.630769\n",
      "24  3.158263  ovo  0.630769\n",
      "25  3.158263  ovr  0.630769\n",
      "18  2.368947  ovo  0.630769\n",
      "19  2.368947  ovr  0.630769\n",
      "31  3.947579  ovr  0.630769\n",
      "30  3.947579  ovo  0.630769\n",
      "29  3.684474  ovr  0.630769\n",
      "28  3.684474  ovo  0.630769\n",
      "35  4.473789  ovr  0.630769\n",
      "34  4.473789  ovo  0.630769\n",
      "33  4.210684  ovr  0.630769\n",
      "32  4.210684  ovo  0.630769\n",
      "4   0.527211  ovo  0.615385\n",
      "5   0.527211  ovr  0.615385\n",
      "6   0.790316  ovo  0.600000\n",
      "7   0.790316  ovr  0.600000\n",
      "3   0.264105  ovr  0.584615\n",
      "2   0.264105  ovo  0.584615\n",
      "1   0.001000  ovr  0.353846\n",
      "0   0.001000  ovo  0.353846\n"
     ]
    }
   ],
   "execution_count": 5
  },
  {
   "metadata": {
    "ExecuteTime": {
     "end_time": "2025-10-28T07:06:42.720066Z",
     "start_time": "2025-10-28T07:06:42.649087Z"
    }
   },
   "cell_type": "code",
   "source": "",
   "id": "251e290ef3109d5d",
   "outputs": [
    {
     "ename": "TypeError",
     "evalue": "decision_function() takes at least 6 positional arguments (1 given)",
     "output_type": "error",
     "traceback": [
      "\u001B[31m---------------------------------------------------------------------------\u001B[39m",
      "\u001B[31mTypeError\u001B[39m                                 Traceback (most recent call last)",
      "\u001B[36mCell\u001B[39m\u001B[36m \u001B[39m\u001B[32mIn[30]\u001B[39m\u001B[32m, line 3\u001B[39m\n\u001B[32m      1\u001B[39m \u001B[38;5;28;01mfrom\u001B[39;00m\u001B[38;5;250m \u001B[39m\u001B[34;01msklearn\u001B[39;00m\u001B[34;01m.\u001B[39;00m\u001B[34;01msvm\u001B[39;00m\u001B[34;01m.\u001B[39;00m\u001B[34;01m_libsvm\u001B[39;00m\u001B[38;5;250m \u001B[39m\u001B[38;5;28;01mimport\u001B[39;00m decision_function\n\u001B[32m----> \u001B[39m\u001B[32m3\u001B[39m \u001B[43mdecision_function\u001B[49m\u001B[43m(\u001B[49m\u001B[43mX_test\u001B[49m\u001B[43m)\u001B[49m\n",
      "\u001B[36mFile \u001B[39m\u001B[32m~\\AppData\\Roaming\\Python\\Python313\\site-packages\\sklearn\\svm\\_libsvm.pyx:602\u001B[39m, in \u001B[36msklearn.svm._libsvm.decision_function\u001B[39m\u001B[34m()\u001B[39m\n",
      "\u001B[31mTypeError\u001B[39m: decision_function() takes at least 6 positional arguments (1 given)"
     ]
    }
   ],
   "execution_count": 30
  },
  {
   "metadata": {
    "ExecuteTime": {
     "end_time": "2025-10-28T07:13:23.251520Z",
     "start_time": "2025-10-28T07:13:23.015848Z"
    }
   },
   "cell_type": "code",
   "source": [
    "dfs=['ovo','ovr']\n",
    "for C in Cs:\n",
    "    for d in dfs:\n",
    "        svm=SVC(kernel='rbf',C=C,decision_function_shape=d)\n",
    "        svm.fit(X_train,y_train)\n",
    "        y_pred=svm.predict(X_test)\n",
    "        accuracy=accuracy_score(y_test,y_pred)\n",
    "        Scores.append([C,d,accuracy])\n",
    "df_scores=pd.DataFrame(Scores,columns=['C','dfs','Accuracy'])\n",
    "df_scores.sort_values('Accuracy',ascending=False,inplace=True)\n",
    "print(df_scores)"
   ],
   "id": "cf2bf21ee1b3da7b",
   "outputs": [
    {
     "name": "stdout",
     "output_type": "stream",
     "text": [
      "           C  dfs  Accuracy\n",
      "10  1.316526  ovo  0.661538\n",
      "11  1.316526  ovr  0.661538\n",
      "15  1.842737  ovr  0.646154\n",
      "14  1.842737  ovo  0.646154\n",
      "8   1.053421  ovo  0.646154\n",
      "..       ...  ...       ...\n",
      "75  4.473789  ovr  0.353846\n",
      "76  4.736895  ovo  0.353846\n",
      "77  4.736895  ovr  0.353846\n",
      "78  5.000000  ovo  0.353846\n",
      "79  5.000000  ovr  0.353846\n",
      "\n",
      "[80 rows x 3 columns]\n"
     ]
    }
   ],
   "execution_count": 6
  },
  {
   "metadata": {
    "ExecuteTime": {
     "end_time": "2025-10-28T07:24:22.170856Z",
     "start_time": "2025-10-28T07:24:21.763608Z"
    }
   },
   "cell_type": "code",
   "source": [
    "from sklearn.pipeline import Pipeline\n",
    "Scores=[]\n",
    "scaler=StandardScaler()\n",
    "for C in Cs:\n",
    "        for d in dfs:\n",
    "            svm=SVC(kernel='linear',C=C,decision_function_shape=d)\n",
    "            pipe=Pipeline([('scaler',scaler),('svm',svm)])\n",
    "            pipe.fit(X_train,y_train)\n",
    "            y_pred=pipe.predict(X_test)\n",
    "            accuracy=accuracy_score(y_test,y_pred)\n",
    "            Scores.append([C,d,accuracy])\n",
    "df_scores=pd.DataFrame(Scores,columns=['C','dfs','Accuracy'])\n",
    "df_scores.sort_values('Accuracy',ascending=False,inplace=True)\n",
    "print(df_scores)"
   ],
   "id": "525a5b52599e854e",
   "outputs": [
    {
     "name": "stdout",
     "output_type": "stream",
     "text": [
      "           C  dfs  Accuracy\n",
      "3   0.264105  ovr  0.615385\n",
      "2   0.264105  ovo  0.615385\n",
      "38  5.000000  ovo  0.615385\n",
      "39  5.000000  ovr  0.615385\n",
      "36  4.736895  ovo  0.615385\n",
      "37  4.736895  ovr  0.615385\n",
      "6   0.790316  ovo  0.600000\n",
      "7   0.790316  ovr  0.600000\n",
      "31  3.947579  ovr  0.600000\n",
      "30  3.947579  ovo  0.600000\n",
      "29  3.684474  ovr  0.600000\n",
      "28  3.684474  ovo  0.600000\n",
      "15  1.842737  ovr  0.600000\n",
      "14  1.842737  ovo  0.600000\n",
      "13  1.579632  ovr  0.600000\n",
      "12  1.579632  ovo  0.600000\n",
      "27  3.421368  ovr  0.600000\n",
      "26  3.421368  ovo  0.600000\n",
      "25  3.158263  ovr  0.600000\n",
      "24  3.158263  ovo  0.600000\n",
      "23  2.895158  ovr  0.600000\n",
      "22  2.895158  ovo  0.600000\n",
      "17  2.105842  ovr  0.600000\n",
      "16  2.105842  ovo  0.600000\n",
      "35  4.473789  ovr  0.600000\n",
      "34  4.473789  ovo  0.600000\n",
      "33  4.210684  ovr  0.600000\n",
      "32  4.210684  ovo  0.600000\n",
      "20  2.632053  ovo  0.584615\n",
      "21  2.632053  ovr  0.584615\n",
      "4   0.527211  ovo  0.584615\n",
      "5   0.527211  ovr  0.584615\n",
      "11  1.316526  ovr  0.584615\n",
      "10  1.316526  ovo  0.584615\n",
      "18  2.368947  ovo  0.584615\n",
      "19  2.368947  ovr  0.584615\n",
      "9   1.053421  ovr  0.584615\n",
      "8   1.053421  ovo  0.584615\n",
      "1   0.001000  ovr  0.353846\n",
      "0   0.001000  ovo  0.353846\n"
     ]
    }
   ],
   "execution_count": 12
  },
  {
   "metadata": {
    "ExecuteTime": {
     "end_time": "2025-10-28T07:18:37.646858Z",
     "start_time": "2025-10-28T07:18:30.959945Z"
    }
   },
   "cell_type": "code",
   "source": [
    "for C in Cs:\n",
    "    for g in Gs:\n",
    "        for d in dfs:\n",
    "            svm=SVC(kernel='rbf',C=C,decision_function_shape=d,gamma=g)\n",
    "            pipe=Pipeline([('scaler',scaler),('svm',svm)])\n",
    "            pipe.fit(X_train,y_train)\n",
    "            y_pred=pipe.predict(X_test)\n",
    "            accuracy=accuracy_score(y_test,y_pred)\n",
    "            Scores.append([C,d,g,accuracy])\n",
    "df_scores=pd.DataFrame(Scores,columns=['C','dfs','Gamma','Accuracy'])\n",
    "df_scores.sort_values('Accuracy',ascending=False,inplace=True)\n",
    "print(df_scores)"
   ],
   "id": "b9f4a4a27f0d17fe",
   "outputs": [
    {
     "name": "stdout",
     "output_type": "stream",
     "text": [
      "             C  dfs     Gamma  Accuracy\n",
      "1643  5.000000  ovr  0.264105  0.707692\n",
      "1642  5.000000  ovo  0.264105  0.707692\n",
      "1322  2.895158  ovo  0.264105  0.707692\n",
      "1323  2.895158  ovr  0.264105  0.707692\n",
      "1282  2.632053  ovo  0.264105  0.707692\n",
      "...        ...  ...       ...       ...\n",
      "75    4.473789  ovr  0.353846       NaN\n",
      "76    4.736895  ovo  0.353846       NaN\n",
      "77    4.736895  ovr  0.353846       NaN\n",
      "78    5.000000  ovo  0.353846       NaN\n",
      "79    5.000000  ovr  0.353846       NaN\n",
      "\n",
      "[1680 rows x 4 columns]\n"
     ]
    }
   ],
   "execution_count": 8
  },
  {
   "metadata": {
    "ExecuteTime": {
     "end_time": "2025-10-28T07:26:40.520870Z",
     "start_time": "2025-10-28T07:26:32.851922Z"
    }
   },
   "cell_type": "code",
   "source": [
    "from tqdm import tqdm\n",
    "\n",
    "for C in tqdm(Cs):\n",
    "    for g in Gs:\n",
    "        for d in dfs:\n",
    "            svm=SVC(kernel='rbf',C=C,decision_function_shape=d,gamma=g)\n",
    "            pipe=Pipeline([('scaler',scaler),('svm',svm)])\n",
    "            pipe.fit(X_train,y_train)\n",
    "            y_pred=pipe.predict(X_test)\n",
    "            accuracy=accuracy_score(y_test,y_pred)\n",
    "            Scores.append([C,d,g,accuracy])\n",
    "df_scores=pd.DataFrame(Scores,columns=['C','dfs','Gamma','Accuracy'])\n",
    "df_scores.sort_values('Accuracy',ascending=False,inplace=True)\n",
    "print(df_scores)"
   ],
   "id": "f485c446c689a4ac",
   "outputs": [
    {
     "name": "stderr",
     "output_type": "stream",
     "text": [
      "100%|██████████| 20/20 [00:07<00:00,  2.62it/s]"
     ]
    },
    {
     "name": "stdout",
     "output_type": "stream",
     "text": [
      "            C  dfs     Gamma  Accuracy\n",
      "802  5.000000  ovo  0.264105  0.707692\n",
      "803  5.000000  ovr  0.264105  0.707692\n",
      "364  2.105842  ovo  0.527211  0.707692\n",
      "365  2.105842  ovr  0.527211  0.707692\n",
      "403  2.368947  ovr  0.264105  0.707692\n",
      "..        ...  ...       ...       ...\n",
      "35   4.473789  ovr  0.600000       NaN\n",
      "36   4.736895  ovo  0.615385       NaN\n",
      "37   4.736895  ovr  0.615385       NaN\n",
      "38   5.000000  ovo  0.615385       NaN\n",
      "39   5.000000  ovr  0.615385       NaN\n",
      "\n",
      "[840 rows x 4 columns]\n"
     ]
    },
    {
     "name": "stderr",
     "output_type": "stream",
     "text": [
      "\n"
     ]
    }
   ],
   "execution_count": 14
  },
  {
   "metadata": {
    "ExecuteTime": {
     "end_time": "2025-10-28T07:35:42.519477Z",
     "start_time": "2025-10-28T07:35:29.875214Z"
    }
   },
   "cell_type": "code",
   "source": [
    "from ucimlrepo import fetch_ucirepo\n",
    "\n",
    "# fetch dataset\n",
    "car_evaluation = fetch_ucirepo(id=19)\n",
    "\n",
    "# data (as pandas dataframes)\n",
    "X = car_evaluation.data.features\n",
    "y = car_evaluation.data.targets\n",
    "\n",
    "# metadata\n",
    "print(car_evaluation.metadata)\n",
    "\n",
    "# variable information\n",
    "print(car_evaluation.variables)\n"
   ],
   "id": "9038136accd66aa1",
   "outputs": [
    {
     "name": "stdout",
     "output_type": "stream",
     "text": [
      "{'uci_id': 19, 'name': 'Car Evaluation', 'repository_url': 'https://archive.ics.uci.edu/dataset/19/car+evaluation', 'data_url': 'https://archive.ics.uci.edu/static/public/19/data.csv', 'abstract': 'Derived from simple hierarchical decision model, this database may be useful for testing constructive induction and structure discovery methods.', 'area': 'Other', 'tasks': ['Classification'], 'characteristics': ['Multivariate'], 'num_instances': 1728, 'num_features': 6, 'feature_types': ['Categorical'], 'demographics': [], 'target_col': ['class'], 'index_col': None, 'has_missing_values': 'no', 'missing_values_symbol': None, 'year_of_dataset_creation': 1988, 'last_updated': 'Thu Aug 10 2023', 'dataset_doi': '10.24432/C5JP48', 'creators': ['Marko Bohanec'], 'intro_paper': {'ID': 249, 'type': 'NATIVE', 'title': 'Knowledge acquisition and explanation for multi-attribute decision making', 'authors': 'M. Bohanec, V. Rajkovič', 'venue': '8th Intl Workshop on Expert Systems and their Applications, Avignon, France', 'year': 1988, 'journal': None, 'DOI': None, 'URL': 'https://www.semanticscholar.org/paper/KNOWLEDGE-ACQUISITION-AND-EXPLANATION-FOR-DECISION-Bohanec-Rajkovi%C4%8D/8bab443ae322ff47c3e609272bd93fd4650555bc', 'sha': None, 'corpus': None, 'arxiv': None, 'mag': None, 'acl': None, 'pmid': None, 'pmcid': None}, 'additional_info': {'summary': 'Car Evaluation Database was derived from a simple hierarchical decision model originally developed for the demonstration of DEX, M. Bohanec, V. Rajkovic: Expert system for decision making. Sistemica 1(1), pp. 145-157, 1990.). The model evaluates cars according to the following concept structure:\\r\\n\\r\\nCAR                      car acceptability\\r\\n. PRICE                  overall price\\r\\n. . buying               buying price\\r\\n. . maint                price of the maintenance\\r\\n. TECH                   technical characteristics\\r\\n. . COMFORT              comfort\\r\\n. . . doors              number of doors\\r\\n. . . persons            capacity in terms of persons to carry\\r\\n. . . lug_boot           the size of luggage boot\\r\\n. . safety               estimated safety of the car\\r\\n\\r\\nInput attributes are printed in lowercase. Besides the target concept (CAR), the model includes three intermediate concepts: PRICE, TECH, COMFORT. Every concept is in the original model related to its lower level descendants by a set of examples (for these examples sets see http://www-ai.ijs.si/BlazZupan/car.html).\\r\\n\\r\\nThe Car Evaluation Database contains examples with the structural information removed, i.e., directly relates CAR to the six input attributes: buying, maint, doors, persons, lug_boot, safety.\\r\\n\\r\\nBecause of known underlying concept structure, this database may be particularly useful for testing constructive induction and structure discovery methods.\\r\\n', 'purpose': None, 'funded_by': None, 'instances_represent': None, 'recommended_data_splits': None, 'sensitive_data': None, 'preprocessing_description': None, 'variable_info': 'buying:   vhigh, high, med, low.\\nmaint:    vhigh, high, med, low.\\ndoors:    2, 3, 4, 5more.\\npersons:  2, 4, more.\\nlug_boot: small, med, big.\\nsafety:   low, med, high.', 'citation': None}}\n",
      "       name     role         type demographic  \\\n",
      "0    buying  Feature  Categorical        None   \n",
      "1     maint  Feature  Categorical        None   \n",
      "2     doors  Feature  Categorical        None   \n",
      "3   persons  Feature  Categorical        None   \n",
      "4  lug_boot  Feature  Categorical        None   \n",
      "5    safety  Feature  Categorical        None   \n",
      "6     class   Target  Categorical        None   \n",
      "\n",
      "                                         description units missing_values  \n",
      "0                                       buying price  None             no  \n",
      "1                           price of the maintenance  None             no  \n",
      "2                                    number of doors  None             no  \n",
      "3              capacity in terms of persons to carry  None             no  \n",
      "4                           the size of luggage boot  None             no  \n",
      "5                        estimated safety of the car  None             no  \n",
      "6  evaulation level (unacceptable, acceptable, go...  None             no  \n"
     ]
    }
   ],
   "execution_count": 15
  },
  {
   "metadata": {
    "ExecuteTime": {
     "end_time": "2025-10-28T07:37:10.080303Z",
     "start_time": "2025-10-28T07:37:10.062975Z"
    }
   },
   "cell_type": "code",
   "source": "y['class'].value_counts()",
   "id": "adaecce74617144a",
   "outputs": [
    {
     "data": {
      "text/plain": [
       "class\n",
       "unacc    1210\n",
       "acc       384\n",
       "good       69\n",
       "vgood      65\n",
       "Name: count, dtype: int64"
      ]
     },
     "execution_count": 18,
     "metadata": {},
     "output_type": "execute_result"
    }
   ],
   "execution_count": 18
  },
  {
   "metadata": {
    "ExecuteTime": {
     "end_time": "2025-10-28T07:44:24.714058Z",
     "start_time": "2025-10-28T07:44:24.666107Z"
    }
   },
   "cell_type": "code",
   "source": [
    "from sklearn.preprocessing import LabelEncoder\n",
    "\n",
    "le=LabelEncoder()\n",
    "y=le.fit_transform(y['class'])\n",
    "le.classes_\n"
   ],
   "id": "60903f2a4b924236",
   "outputs": [
    {
     "ename": "IndexError",
     "evalue": "only integers, slices (`:`), ellipsis (`...`), numpy.newaxis (`None`) and integer or boolean arrays are valid indices",
     "output_type": "error",
     "traceback": [
      "\u001B[31m---------------------------------------------------------------------------\u001B[39m",
      "\u001B[31mIndexError\u001B[39m                                Traceback (most recent call last)",
      "\u001B[36mCell\u001B[39m\u001B[36m \u001B[39m\u001B[32mIn[24]\u001B[39m\u001B[32m, line 4\u001B[39m\n\u001B[32m      1\u001B[39m \u001B[38;5;28;01mfrom\u001B[39;00m\u001B[38;5;250m \u001B[39m\u001B[34;01msklearn\u001B[39;00m\u001B[34;01m.\u001B[39;00m\u001B[34;01mpreprocessing\u001B[39;00m\u001B[38;5;250m \u001B[39m\u001B[38;5;28;01mimport\u001B[39;00m LabelEncoder\n\u001B[32m      3\u001B[39m le=LabelEncoder()\n\u001B[32m----> \u001B[39m\u001B[32m4\u001B[39m y=le.fit_transform(\u001B[43my\u001B[49m\u001B[43m[\u001B[49m\u001B[33;43m'\u001B[39;49m\u001B[33;43mclass\u001B[39;49m\u001B[33;43m'\u001B[39;49m\u001B[43m]\u001B[49m)\n\u001B[32m      5\u001B[39m le.classes_\n",
      "\u001B[31mIndexError\u001B[39m: only integers, slices (`:`), ellipsis (`...`), numpy.newaxis (`None`) and integer or boolean arrays are valid indices"
     ]
    }
   ],
   "execution_count": 24
  },
  {
   "metadata": {
    "ExecuteTime": {
     "end_time": "2025-10-28T07:52:31.031682Z",
     "start_time": "2025-10-28T07:52:28.720162Z"
    }
   },
   "cell_type": "code",
   "source": [
    "ohe=OneHotEncoder(drop='first')\n",
    "X_train,X_test,y_train,y_test=train_test_split(X,y,test_size=0.3,random_state=25,stratify=y)\n",
    "scores=[]\n",
    "for c in Cs:\n",
    "    for d in dfs:\n",
    "        svm=SVC(kernel='linear',C=c,decision_function_shape=d)\n",
    "        pipe=Pipeline([('OHE',ohe),('SVM',svm)])\n",
    "        pipe.fit(X_train,y_train)\n",
    "        y_pred=pipe.predict(X_test)\n",
    "        scores.append([c,d,accuracy_score(y_test,y_pred)])\n",
    "df_scores=pd.DataFrame(scores,columns=['C','dfs','accuracy'])\n",
    "df_scores.sort_values('accuracy',ascending=False)"
   ],
   "id": "56de8042d442b93c",
   "outputs": [
    {
     "data": {
      "text/plain": [
       "           C  dfs  accuracy\n",
       "30  3.947579  ovo  0.932563\n",
       "31  3.947579  ovr  0.932563\n",
       "21  2.632053  ovr  0.932563\n",
       "20  2.632053  ovo  0.932563\n",
       "36  4.736895  ovo  0.928709\n",
       "37  4.736895  ovr  0.928709\n",
       "39  5.000000  ovr  0.928709\n",
       "38  5.000000  ovo  0.928709\n",
       "35  4.473789  ovr  0.928709\n",
       "34  4.473789  ovo  0.928709\n",
       "27  3.421368  ovr  0.926782\n",
       "26  3.421368  ovo  0.926782\n",
       "33  4.210684  ovr  0.926782\n",
       "32  4.210684  ovo  0.926782\n",
       "22  2.895158  ovo  0.924855\n",
       "23  2.895158  ovr  0.924855\n",
       "28  3.684474  ovo  0.924855\n",
       "29  3.684474  ovr  0.924855\n",
       "25  3.158263  ovr  0.924855\n",
       "24  3.158263  ovo  0.924855\n",
       "19  2.368947  ovr  0.922929\n",
       "18  2.368947  ovo  0.922929\n",
       "17  2.105842  ovr  0.922929\n",
       "16  2.105842  ovo  0.922929\n",
       "14  1.842737  ovo  0.919075\n",
       "15  1.842737  ovr  0.919075\n",
       "12  1.579632  ovo  0.917148\n",
       "13  1.579632  ovr  0.917148\n",
       "10  1.316526  ovo  0.915222\n",
       "11  1.316526  ovr  0.915222\n",
       "8   1.053421  ovo  0.909441\n",
       "9   1.053421  ovr  0.909441\n",
       "7   0.790316  ovr  0.897881\n",
       "6   0.790316  ovo  0.897881\n",
       "5   0.527211  ovr  0.890173\n",
       "4   0.527211  ovo  0.890173\n",
       "3   0.264105  ovr  0.888247\n",
       "2   0.264105  ovo  0.888247\n",
       "1   0.001000  ovr  0.699422\n",
       "0   0.001000  ovo  0.699422"
      ],
      "text/html": [
       "<div>\n",
       "<style scoped>\n",
       "    .dataframe tbody tr th:only-of-type {\n",
       "        vertical-align: middle;\n",
       "    }\n",
       "\n",
       "    .dataframe tbody tr th {\n",
       "        vertical-align: top;\n",
       "    }\n",
       "\n",
       "    .dataframe thead th {\n",
       "        text-align: right;\n",
       "    }\n",
       "</style>\n",
       "<table border=\"1\" class=\"dataframe\">\n",
       "  <thead>\n",
       "    <tr style=\"text-align: right;\">\n",
       "      <th></th>\n",
       "      <th>C</th>\n",
       "      <th>dfs</th>\n",
       "      <th>accuracy</th>\n",
       "    </tr>\n",
       "  </thead>\n",
       "  <tbody>\n",
       "    <tr>\n",
       "      <th>30</th>\n",
       "      <td>3.947579</td>\n",
       "      <td>ovo</td>\n",
       "      <td>0.932563</td>\n",
       "    </tr>\n",
       "    <tr>\n",
       "      <th>31</th>\n",
       "      <td>3.947579</td>\n",
       "      <td>ovr</td>\n",
       "      <td>0.932563</td>\n",
       "    </tr>\n",
       "    <tr>\n",
       "      <th>21</th>\n",
       "      <td>2.632053</td>\n",
       "      <td>ovr</td>\n",
       "      <td>0.932563</td>\n",
       "    </tr>\n",
       "    <tr>\n",
       "      <th>20</th>\n",
       "      <td>2.632053</td>\n",
       "      <td>ovo</td>\n",
       "      <td>0.932563</td>\n",
       "    </tr>\n",
       "    <tr>\n",
       "      <th>36</th>\n",
       "      <td>4.736895</td>\n",
       "      <td>ovo</td>\n",
       "      <td>0.928709</td>\n",
       "    </tr>\n",
       "    <tr>\n",
       "      <th>37</th>\n",
       "      <td>4.736895</td>\n",
       "      <td>ovr</td>\n",
       "      <td>0.928709</td>\n",
       "    </tr>\n",
       "    <tr>\n",
       "      <th>39</th>\n",
       "      <td>5.000000</td>\n",
       "      <td>ovr</td>\n",
       "      <td>0.928709</td>\n",
       "    </tr>\n",
       "    <tr>\n",
       "      <th>38</th>\n",
       "      <td>5.000000</td>\n",
       "      <td>ovo</td>\n",
       "      <td>0.928709</td>\n",
       "    </tr>\n",
       "    <tr>\n",
       "      <th>35</th>\n",
       "      <td>4.473789</td>\n",
       "      <td>ovr</td>\n",
       "      <td>0.928709</td>\n",
       "    </tr>\n",
       "    <tr>\n",
       "      <th>34</th>\n",
       "      <td>4.473789</td>\n",
       "      <td>ovo</td>\n",
       "      <td>0.928709</td>\n",
       "    </tr>\n",
       "    <tr>\n",
       "      <th>27</th>\n",
       "      <td>3.421368</td>\n",
       "      <td>ovr</td>\n",
       "      <td>0.926782</td>\n",
       "    </tr>\n",
       "    <tr>\n",
       "      <th>26</th>\n",
       "      <td>3.421368</td>\n",
       "      <td>ovo</td>\n",
       "      <td>0.926782</td>\n",
       "    </tr>\n",
       "    <tr>\n",
       "      <th>33</th>\n",
       "      <td>4.210684</td>\n",
       "      <td>ovr</td>\n",
       "      <td>0.926782</td>\n",
       "    </tr>\n",
       "    <tr>\n",
       "      <th>32</th>\n",
       "      <td>4.210684</td>\n",
       "      <td>ovo</td>\n",
       "      <td>0.926782</td>\n",
       "    </tr>\n",
       "    <tr>\n",
       "      <th>22</th>\n",
       "      <td>2.895158</td>\n",
       "      <td>ovo</td>\n",
       "      <td>0.924855</td>\n",
       "    </tr>\n",
       "    <tr>\n",
       "      <th>23</th>\n",
       "      <td>2.895158</td>\n",
       "      <td>ovr</td>\n",
       "      <td>0.924855</td>\n",
       "    </tr>\n",
       "    <tr>\n",
       "      <th>28</th>\n",
       "      <td>3.684474</td>\n",
       "      <td>ovo</td>\n",
       "      <td>0.924855</td>\n",
       "    </tr>\n",
       "    <tr>\n",
       "      <th>29</th>\n",
       "      <td>3.684474</td>\n",
       "      <td>ovr</td>\n",
       "      <td>0.924855</td>\n",
       "    </tr>\n",
       "    <tr>\n",
       "      <th>25</th>\n",
       "      <td>3.158263</td>\n",
       "      <td>ovr</td>\n",
       "      <td>0.924855</td>\n",
       "    </tr>\n",
       "    <tr>\n",
       "      <th>24</th>\n",
       "      <td>3.158263</td>\n",
       "      <td>ovo</td>\n",
       "      <td>0.924855</td>\n",
       "    </tr>\n",
       "    <tr>\n",
       "      <th>19</th>\n",
       "      <td>2.368947</td>\n",
       "      <td>ovr</td>\n",
       "      <td>0.922929</td>\n",
       "    </tr>\n",
       "    <tr>\n",
       "      <th>18</th>\n",
       "      <td>2.368947</td>\n",
       "      <td>ovo</td>\n",
       "      <td>0.922929</td>\n",
       "    </tr>\n",
       "    <tr>\n",
       "      <th>17</th>\n",
       "      <td>2.105842</td>\n",
       "      <td>ovr</td>\n",
       "      <td>0.922929</td>\n",
       "    </tr>\n",
       "    <tr>\n",
       "      <th>16</th>\n",
       "      <td>2.105842</td>\n",
       "      <td>ovo</td>\n",
       "      <td>0.922929</td>\n",
       "    </tr>\n",
       "    <tr>\n",
       "      <th>14</th>\n",
       "      <td>1.842737</td>\n",
       "      <td>ovo</td>\n",
       "      <td>0.919075</td>\n",
       "    </tr>\n",
       "    <tr>\n",
       "      <th>15</th>\n",
       "      <td>1.842737</td>\n",
       "      <td>ovr</td>\n",
       "      <td>0.919075</td>\n",
       "    </tr>\n",
       "    <tr>\n",
       "      <th>12</th>\n",
       "      <td>1.579632</td>\n",
       "      <td>ovo</td>\n",
       "      <td>0.917148</td>\n",
       "    </tr>\n",
       "    <tr>\n",
       "      <th>13</th>\n",
       "      <td>1.579632</td>\n",
       "      <td>ovr</td>\n",
       "      <td>0.917148</td>\n",
       "    </tr>\n",
       "    <tr>\n",
       "      <th>10</th>\n",
       "      <td>1.316526</td>\n",
       "      <td>ovo</td>\n",
       "      <td>0.915222</td>\n",
       "    </tr>\n",
       "    <tr>\n",
       "      <th>11</th>\n",
       "      <td>1.316526</td>\n",
       "      <td>ovr</td>\n",
       "      <td>0.915222</td>\n",
       "    </tr>\n",
       "    <tr>\n",
       "      <th>8</th>\n",
       "      <td>1.053421</td>\n",
       "      <td>ovo</td>\n",
       "      <td>0.909441</td>\n",
       "    </tr>\n",
       "    <tr>\n",
       "      <th>9</th>\n",
       "      <td>1.053421</td>\n",
       "      <td>ovr</td>\n",
       "      <td>0.909441</td>\n",
       "    </tr>\n",
       "    <tr>\n",
       "      <th>7</th>\n",
       "      <td>0.790316</td>\n",
       "      <td>ovr</td>\n",
       "      <td>0.897881</td>\n",
       "    </tr>\n",
       "    <tr>\n",
       "      <th>6</th>\n",
       "      <td>0.790316</td>\n",
       "      <td>ovo</td>\n",
       "      <td>0.897881</td>\n",
       "    </tr>\n",
       "    <tr>\n",
       "      <th>5</th>\n",
       "      <td>0.527211</td>\n",
       "      <td>ovr</td>\n",
       "      <td>0.890173</td>\n",
       "    </tr>\n",
       "    <tr>\n",
       "      <th>4</th>\n",
       "      <td>0.527211</td>\n",
       "      <td>ovo</td>\n",
       "      <td>0.890173</td>\n",
       "    </tr>\n",
       "    <tr>\n",
       "      <th>3</th>\n",
       "      <td>0.264105</td>\n",
       "      <td>ovr</td>\n",
       "      <td>0.888247</td>\n",
       "    </tr>\n",
       "    <tr>\n",
       "      <th>2</th>\n",
       "      <td>0.264105</td>\n",
       "      <td>ovo</td>\n",
       "      <td>0.888247</td>\n",
       "    </tr>\n",
       "    <tr>\n",
       "      <th>1</th>\n",
       "      <td>0.001000</td>\n",
       "      <td>ovr</td>\n",
       "      <td>0.699422</td>\n",
       "    </tr>\n",
       "    <tr>\n",
       "      <th>0</th>\n",
       "      <td>0.001000</td>\n",
       "      <td>ovo</td>\n",
       "      <td>0.699422</td>\n",
       "    </tr>\n",
       "  </tbody>\n",
       "</table>\n",
       "</div>"
      ]
     },
     "execution_count": 28,
     "metadata": {},
     "output_type": "execute_result"
    }
   ],
   "execution_count": 28
  },
  {
   "metadata": {
    "ExecuteTime": {
     "end_time": "2025-10-28T07:57:03.204905Z",
     "start_time": "2025-10-28T07:54:24.258444Z"
    }
   },
   "cell_type": "code",
   "source": [
    "ohe=OneHotEncoder(drop='first')\n",
    "X_train,X_test,y_train,y_test=train_test_split(X,y,test_size=0.3,random_state=25,stratify=y)\n",
    "scores=[]\n",
    "for c in Cs:\n",
    "    for G in Gs:\n",
    "        for d in dfs:\n",
    "            svm=SVC(kernel='rbf',C=c,decision_function_shape=d,gamma=G)\n",
    "            pipe=Pipeline([('OHE',ohe),('SVM',svm)])\n",
    "            pipe.fit(X_train,y_train)\n",
    "            y_pred=pipe.predict(X_test)\n",
    "            scores.append([c,d,accuracy_score(y_test,y_pred),G])\n",
    "df_scores=pd.DataFrame(scores,columns=['C','dfs','accuracy','Gamma'])\n",
    "df_scores.sort_values('accuracy',ascending=False)"
   ],
   "id": "4099957027a5a3c2",
   "outputs": [
    {
     "data": {
      "text/plain": [
       "            C  dfs  accuracy     Gamma\n",
       "762  5.000000  ovo  0.982659  0.264105\n",
       "763  5.000000  ovr  0.982659  0.264105\n",
       "603  3.947579  ovr  0.978805  0.264105\n",
       "602  3.947579  ovo  0.978805  0.264105\n",
       "562  3.684474  ovo  0.978805  0.264105\n",
       "..        ...  ...       ...       ...\n",
       "21   0.001000  ovr  0.699422  2.632053\n",
       "22   0.001000  ovo  0.699422  2.895158\n",
       "23   0.001000  ovr  0.699422  2.895158\n",
       "8    0.001000  ovo  0.699422  1.053421\n",
       "783  5.000000  ovr  0.699422  2.895158\n",
       "\n",
       "[800 rows x 4 columns]"
      ],
      "text/html": [
       "<div>\n",
       "<style scoped>\n",
       "    .dataframe tbody tr th:only-of-type {\n",
       "        vertical-align: middle;\n",
       "    }\n",
       "\n",
       "    .dataframe tbody tr th {\n",
       "        vertical-align: top;\n",
       "    }\n",
       "\n",
       "    .dataframe thead th {\n",
       "        text-align: right;\n",
       "    }\n",
       "</style>\n",
       "<table border=\"1\" class=\"dataframe\">\n",
       "  <thead>\n",
       "    <tr style=\"text-align: right;\">\n",
       "      <th></th>\n",
       "      <th>C</th>\n",
       "      <th>dfs</th>\n",
       "      <th>accuracy</th>\n",
       "      <th>Gamma</th>\n",
       "    </tr>\n",
       "  </thead>\n",
       "  <tbody>\n",
       "    <tr>\n",
       "      <th>762</th>\n",
       "      <td>5.000000</td>\n",
       "      <td>ovo</td>\n",
       "      <td>0.982659</td>\n",
       "      <td>0.264105</td>\n",
       "    </tr>\n",
       "    <tr>\n",
       "      <th>763</th>\n",
       "      <td>5.000000</td>\n",
       "      <td>ovr</td>\n",
       "      <td>0.982659</td>\n",
       "      <td>0.264105</td>\n",
       "    </tr>\n",
       "    <tr>\n",
       "      <th>603</th>\n",
       "      <td>3.947579</td>\n",
       "      <td>ovr</td>\n",
       "      <td>0.978805</td>\n",
       "      <td>0.264105</td>\n",
       "    </tr>\n",
       "    <tr>\n",
       "      <th>602</th>\n",
       "      <td>3.947579</td>\n",
       "      <td>ovo</td>\n",
       "      <td>0.978805</td>\n",
       "      <td>0.264105</td>\n",
       "    </tr>\n",
       "    <tr>\n",
       "      <th>562</th>\n",
       "      <td>3.684474</td>\n",
       "      <td>ovo</td>\n",
       "      <td>0.978805</td>\n",
       "      <td>0.264105</td>\n",
       "    </tr>\n",
       "    <tr>\n",
       "      <th>...</th>\n",
       "      <td>...</td>\n",
       "      <td>...</td>\n",
       "      <td>...</td>\n",
       "      <td>...</td>\n",
       "    </tr>\n",
       "    <tr>\n",
       "      <th>21</th>\n",
       "      <td>0.001000</td>\n",
       "      <td>ovr</td>\n",
       "      <td>0.699422</td>\n",
       "      <td>2.632053</td>\n",
       "    </tr>\n",
       "    <tr>\n",
       "      <th>22</th>\n",
       "      <td>0.001000</td>\n",
       "      <td>ovo</td>\n",
       "      <td>0.699422</td>\n",
       "      <td>2.895158</td>\n",
       "    </tr>\n",
       "    <tr>\n",
       "      <th>23</th>\n",
       "      <td>0.001000</td>\n",
       "      <td>ovr</td>\n",
       "      <td>0.699422</td>\n",
       "      <td>2.895158</td>\n",
       "    </tr>\n",
       "    <tr>\n",
       "      <th>8</th>\n",
       "      <td>0.001000</td>\n",
       "      <td>ovo</td>\n",
       "      <td>0.699422</td>\n",
       "      <td>1.053421</td>\n",
       "    </tr>\n",
       "    <tr>\n",
       "      <th>783</th>\n",
       "      <td>5.000000</td>\n",
       "      <td>ovr</td>\n",
       "      <td>0.699422</td>\n",
       "      <td>2.895158</td>\n",
       "    </tr>\n",
       "  </tbody>\n",
       "</table>\n",
       "<p>800 rows × 4 columns</p>\n",
       "</div>"
      ]
     },
     "execution_count": 30,
     "metadata": {},
     "output_type": "execute_result"
    }
   ],
   "execution_count": 30
  },
  {
   "metadata": {},
   "cell_type": "code",
   "outputs": [],
   "execution_count": null,
   "source": "",
   "id": "22f3dcfaac7b5bcd"
  }
 ],
 "metadata": {
  "kernelspec": {
   "display_name": "Python 3",
   "language": "python",
   "name": "python3"
  },
  "language_info": {
   "codemirror_mode": {
    "name": "ipython",
    "version": 2
   },
   "file_extension": ".py",
   "mimetype": "text/x-python",
   "name": "python",
   "nbconvert_exporter": "python",
   "pygments_lexer": "ipython2",
   "version": "2.7.6"
  }
 },
 "nbformat": 4,
 "nbformat_minor": 5
}
